{
  "nbformat": 4,
  "nbformat_minor": 0,
  "metadata": {
    "colab": {
      "name": "ss2.ipynb",
      "provenance": [],
      "collapsed_sections": [],
      "include_colab_link": true
    },
    "kernelspec": {
      "name": "python3",
      "display_name": "Python 3"
    }
  },
  "cells": [
    {
      "cell_type": "markdown",
      "metadata": {
        "id": "view-in-github",
        "colab_type": "text"
      },
      "source": [
        "<a href=\"https://colab.research.google.com/github/Rohini0210/Python-Fundamentals/blob/master/ss2.ipynb\" target=\"_parent\"><img src=\"https://colab.research.google.com/assets/colab-badge.svg\" alt=\"Open In Colab\"/></a>"
      ]
    },
    {
      "cell_type": "code",
      "metadata": {
        "id": "J87nU5KGlZMM",
        "outputId": "91ebca9f-e1aa-469f-c76e-27c9b6cc2bbc",
        "colab": {
          "base_uri": "https://localhost:8080/",
          "height": 35
        }
      },
      "source": [
        "print(\"Hello World!\") \n"
      ],
      "execution_count": null,
      "outputs": [
        {
          "output_type": "stream",
          "text": [
            "Hello World!\n"
          ],
          "name": "stdout"
        }
      ]
    },
    {
      "cell_type": "code",
      "metadata": {
        "id": "IuhpCSx5rIqJ",
        "outputId": "30ff7726-d50c-447c-d17e-43cdb0396a60",
        "colab": {
          "base_uri": "https://localhost:8080/",
          "height": 54
        }
      },
      "source": [
        "%%time\n",
        "N=100000000\n",
        "list_=list(range(N))\n",
        "list_=map(lambda x:x*x,list_)\n"
      ],
      "execution_count": null,
      "outputs": [
        {
          "output_type": "stream",
          "text": [
            "CPU times: user 3.48 s, sys: 4.36 s, total: 7.84 s\n",
            "Wall time: 7.81 s\n"
          ],
          "name": "stdout"
        }
      ]
    },
    {
      "cell_type": "code",
      "metadata": {
        "id": "aOMTfzKgxXT6",
        "outputId": "d2f5bc96-6d4f-4e9d-9cda-1a8b8b73db44",
        "colab": {
          "base_uri": "https://localhost:8080/",
          "height": 54
        }
      },
      "source": [
        "%%time\n",
        "\n",
        "m=np.arange(N)\n",
        "m=m*m\n"
      ],
      "execution_count": null,
      "outputs": [
        {
          "output_type": "stream",
          "text": [
            "CPU times: user 354 ms, sys: 10 ms, total: 364 ms\n",
            "Wall time: 365 ms\n"
          ],
          "name": "stdout"
        }
      ]
    },
    {
      "cell_type": "code",
      "metadata": {
        "id": "En16zSsR8EzC"
      },
      "source": [
        "ar=np.ones((2,3,2))"
      ],
      "execution_count": null,
      "outputs": []
    },
    {
      "cell_type": "code",
      "metadata": {
        "id": "OBRV1mUbrIVz",
        "outputId": "5f2faff1-3f98-402e-e4c5-6b33da4f447d",
        "colab": {
          "base_uri": "https://localhost:8080/",
          "height": 35
        }
      },
      "source": [
        "np.array(['2.345','3.123'])"
      ],
      "execution_count": null,
      "outputs": [
        {
          "output_type": "execute_result",
          "data": {
            "text/plain": [
              "array(['2.345', '3.123'], dtype='<U5')"
            ]
          },
          "metadata": {
            "tags": []
          },
          "execution_count": 28
        }
      ]
    },
    {
      "cell_type": "code",
      "metadata": {
        "id": "qemepVBQBBQL",
        "outputId": "5e3f9281-8c97-4d9a-8522-39d1370ea9ac",
        "colab": {
          "base_uri": "https://localhost:8080/",
          "height": 146
        }
      },
      "source": [
        "np.exp(ar)"
      ],
      "execution_count": null,
      "outputs": [
        {
          "output_type": "execute_result",
          "data": {
            "text/plain": [
              "array([[[2.71828183, 2.71828183],\n",
              "        [2.71828183, 2.71828183],\n",
              "        [2.71828183, 2.71828183]],\n",
              "\n",
              "       [[2.71828183, 2.71828183],\n",
              "        [2.71828183, 2.71828183],\n",
              "        [2.71828183, 2.71828183]]])"
            ]
          },
          "metadata": {
            "tags": []
          },
          "execution_count": 31
        }
      ]
    },
    {
      "cell_type": "code",
      "metadata": {
        "id": "oC1C7q-OrIAI"
      },
      "source": [
        ""
      ],
      "execution_count": null,
      "outputs": []
    },
    {
      "cell_type": "code",
      "metadata": {
        "id": "9ilmeFm9TLyS"
      },
      "source": [
        ""
      ],
      "execution_count": null,
      "outputs": []
    },
    {
      "cell_type": "markdown",
      "metadata": {
        "id": "EtPVTmyOlmNN"
      },
      "source": [
        "# Python Introduction"
      ]
    },
    {
      "cell_type": "code",
      "metadata": {
        "id": "NLtkyKgplsBd",
        "outputId": "4600e31a-b79f-4c6c-b07b-5f1d0fa84bef",
        "colab": {
          "base_uri": "https://localhost:8080/",
          "height": 54
        }
      },
      "source": [
        "print(\"Hello World!\")\n",
        "print(\"Hello from gleanup\")"
      ],
      "execution_count": null,
      "outputs": [
        {
          "output_type": "stream",
          "text": [
            "Hello World!\n",
            "Hello from gleanup\n"
          ],
          "name": "stdout"
        }
      ]
    },
    {
      "cell_type": "code",
      "metadata": {
        "id": "Gpqc0KJslzDF",
        "outputId": "37f9a149-8bb3-4c06-dbfe-185d014a8a12",
        "colab": {
          "base_uri": "https://localhost:8080/",
          "height": 54
        }
      },
      "source": [
        "print(\"PathAI\")\n",
        "print(\"Path\" + \"AI\")"
      ],
      "execution_count": null,
      "outputs": [
        {
          "output_type": "stream",
          "text": [
            "PathAI\n",
            "PathAI\n"
          ],
          "name": "stdout"
        }
      ]
    },
    {
      "cell_type": "code",
      "metadata": {
        "id": "gOGsaPb-l4QG"
      },
      "source": [
        "print(1000 + 729)"
      ],
      "execution_count": null,
      "outputs": []
    },
    {
      "cell_type": "code",
      "metadata": {
        "id": "k1FswRQVl48W"
      },
      "source": [
        "print(55/34) "
      ],
      "execution_count": null,
      "outputs": []
    },
    {
      "cell_type": "code",
      "metadata": {
        "id": "cWwm0dKhl7j7",
        "outputId": "e399e68d-490c-4d25-8092-851b57e30a53",
        "colab": {
          "base_uri": "https://localhost:8080/",
          "height": 35
        }
      },
      "source": [
        "print(True)"
      ],
      "execution_count": null,
      "outputs": [
        {
          "output_type": "stream",
          "text": [
            "True\n"
          ],
          "name": "stdout"
        }
      ]
    },
    {
      "cell_type": "code",
      "metadata": {
        "id": "PQps1T2fmCVR",
        "outputId": "39c26327-25fe-48ca-ae15-dc9a5a3ced00",
        "colab": {
          "base_uri": "https://localhost:8080/",
          "height": 35
        }
      },
      "source": [
        "print(True or False)"
      ],
      "execution_count": null,
      "outputs": [
        {
          "output_type": "stream",
          "text": [
            "True\n"
          ],
          "name": "stdout"
        }
      ]
    },
    {
      "cell_type": "code",
      "metadata": {
        "id": "-RAUBGK3mT0T"
      },
      "source": [
        ""
      ],
      "execution_count": null,
      "outputs": []
    },
    {
      "cell_type": "markdown",
      "metadata": {
        "id": "28wGNYKhmJqe"
      },
      "source": [
        "#Variables and datatypes\n",
        "\n",
        "\n"
      ]
    },
    {
      "cell_type": "code",
      "metadata": {
        "id": "E40PpHo0mdte"
      },
      "source": [
        ""
      ],
      "execution_count": null,
      "outputs": []
    },
    {
      "cell_type": "code",
      "metadata": {
        "id": "NXBYUozVmNb1",
        "outputId": "faa4cca4-dfa0-4c70-94b7-eb3bf5462e4b",
        "colab": {
          "base_uri": "https://localhost:8080/",
          "height": 35
        }
      },
      "source": [
        "school=\"gleanup\"\n",
        "print(\"school\")"
      ],
      "execution_count": null,
      "outputs": [
        {
          "output_type": "stream",
          "text": [
            "school\n"
          ],
          "name": "stdout"
        }
      ]
    },
    {
      "cell_type": "code",
      "metadata": {
        "id": "flE4TiQHjgMe"
      },
      "source": [
        ""
      ],
      "execution_count": null,
      "outputs": []
    },
    {
      "cell_type": "code",
      "metadata": {
        "id": "O-lwSDLgmfOe",
        "outputId": "ab76b2b0-5b28-4101-b1e2-7673d9190bbf",
        "colab": {
          "base_uri": "https://localhost:8080/",
          "height": 35
        }
      },
      "source": [
        "another_school = \"gleanup\"\n",
        "print(another_school)"
      ],
      "execution_count": null,
      "outputs": [
        {
          "output_type": "stream",
          "text": [
            "gleanup\n"
          ],
          "name": "stdout"
        }
      ]
    },
    {
      "cell_type": "code",
      "metadata": {
        "id": "DTNuYewrmmKD",
        "outputId": "a84bece2-520e-4251-86a4-3b5bcdba922e",
        "colab": {
          "base_uri": "https://localhost:8080/",
          "height": 35
        }
      },
      "source": [
        "print(id(school))"
      ],
      "execution_count": null,
      "outputs": [
        {
          "output_type": "stream",
          "text": [
            "140116464969184\n"
          ],
          "name": "stdout"
        }
      ]
    },
    {
      "cell_type": "code",
      "metadata": {
        "id": "-AB3BtBxmszO",
        "outputId": "09027211-85c7-412b-e008-34f25cb2b782",
        "colab": {
          "base_uri": "https://localhost:8080/",
          "height": 35
        }
      },
      "source": [
        "#another_school = \"Tamilnadu\"\n",
        "print(id(another_school))"
      ],
      "execution_count": null,
      "outputs": [
        {
          "output_type": "stream",
          "text": [
            "140116464969184\n"
          ],
          "name": "stdout"
        }
      ]
    },
    {
      "cell_type": "code",
      "metadata": {
        "id": "IdFCKkU5m3s2",
        "outputId": "95f7fb95-d06b-40d5-b039-84c61b52079b",
        "colab": {
          "base_uri": "https://localhost:8080/",
          "height": 35
        }
      },
      "source": [
        "#print all datatypes\n",
        "golden_ratio = 3+4j\n",
        "print(type(golden_ratio))"
      ],
      "execution_count": null,
      "outputs": [
        {
          "output_type": "stream",
          "text": [
            "<class 'complex'>\n"
          ],
          "name": "stdout"
        }
      ]
    },
    {
      "cell_type": "code",
      "metadata": {
        "id": "gmrOzbxUnera",
        "outputId": "0bce26e7-7aca-4527-fd26-6f6e70558938",
        "colab": {
          "base_uri": "https://localhost:8080/",
          "height": 54
        }
      },
      "source": [
        "my_name = input(\"What is your name \")\n",
        "hours_per_day = input(\"How many hours per day do you study \")"
      ],
      "execution_count": null,
      "outputs": [
        {
          "output_type": "stream",
          "text": [
            "What is your name ini\n",
            "How many hours per day do you study 2\n"
          ],
          "name": "stdout"
        }
      ]
    },
    {
      "cell_type": "code",
      "metadata": {
        "id": "ixbEoKchnW9R",
        "outputId": "6ca9faa0-cc89-4e86-c28d-ab54a5133b14",
        "colab": {
          "base_uri": "https://localhost:8080/",
          "height": 35
        }
      },
      "source": [
        "print(my_name + \" studies for \" + hours_per_day + \" hours\")"
      ],
      "execution_count": null,
      "outputs": [
        {
          "output_type": "stream",
          "text": [
            "ini studies for 2 hours\n"
          ],
          "name": "stdout"
        }
      ]
    },
    {
      "cell_type": "code",
      "metadata": {
        "id": "XYiDFNnNnyxb"
      },
      "source": [
        "hours_per_week =(hours_per_day) * 7"
      ],
      "execution_count": null,
      "outputs": []
    },
    {
      "cell_type": "code",
      "metadata": {
        "id": "HQbW1bcHn5wp",
        "outputId": "3c46e4de-04e9-4db4-8846-ea366f827494",
        "colab": {
          "base_uri": "https://localhost:8080/",
          "height": 35
        }
      },
      "source": [
        "print(my_name , \" studies for \" , hours_per_week, \" hours\")"
      ],
      "execution_count": null,
      "outputs": [
        {
          "output_type": "stream",
          "text": [
            "ini  studies for  14  hours\n"
          ],
          "name": "stdout"
        }
      ]
    },
    {
      "cell_type": "code",
      "metadata": {
        "id": "mwzMK0V4oUjK"
      },
      "source": [
        "hours_per_day_int = int(hours_per_day)"
      ],
      "execution_count": null,
      "outputs": []
    },
    {
      "cell_type": "code",
      "metadata": {
        "id": "DIZiSN9mybBh"
      },
      "source": [
        "hours_per_week_int = hours_per_day_int* 7"
      ],
      "execution_count": null,
      "outputs": []
    },
    {
      "cell_type": "code",
      "metadata": {
        "id": "hTWSgfA9j3ne",
        "outputId": "e14d44d0-e544-404b-bd80-2bbcf4256726",
        "colab": {
          "base_uri": "https://localhost:8080/",
          "height": 35
        }
      },
      "source": [
        "print(my_name , \" studies for \" , hours_per_week_int, \" hours\")"
      ],
      "execution_count": null,
      "outputs": [
        {
          "output_type": "stream",
          "text": [
            "ss  studies for  42  hours\n"
          ],
          "name": "stdout"
        }
      ]
    },
    {
      "cell_type": "code",
      "metadata": {
        "id": "NSQqOAWPmEaJ",
        "outputId": "819a3e13-4e95-44b6-e083-541089f3abc6",
        "colab": {
          "base_uri": "https://localhost:8080/",
          "height": 35
        }
      },
      "source": [
        "print(\"welcome\",\"You\",\"all\",sep=\"##\")"
      ],
      "execution_count": null,
      "outputs": [
        {
          "output_type": "stream",
          "text": [
            "welcome##You##all\n"
          ],
          "name": "stdout"
        }
      ]
    },
    {
      "cell_type": "code",
      "metadata": {
        "id": "zC8dWcYhZ0fQ",
        "outputId": "b7d9d130-1ff3-4de9-ed92-7e9db5d6dc21",
        "colab": {
          "base_uri": "https://localhost:8080/"
        }
      },
      "source": [
        "print(\"welcome\",end=\"\")\n",
        "print(\"You\")\n",
        "print(\"all\")"
      ],
      "execution_count": null,
      "outputs": [
        {
          "output_type": "stream",
          "text": [
            "welcomeYou\n",
            "all\n"
          ],
          "name": "stdout"
        }
      ]
    },
    {
      "cell_type": "code",
      "metadata": {
        "id": "Omk7pqxzcc-c",
        "outputId": "742403a1-b60b-444b-db30-c2683ae8cfb5",
        "colab": {
          "base_uri": "https://localhost:8080/",
          "height": 209
        }
      },
      "source": [
        "a=33\n",
        "d=10\n",
        "del d\n",
        "print(a,d)"
      ],
      "execution_count": null,
      "outputs": [
        {
          "output_type": "error",
          "ename": "NameError",
          "evalue": "ignored",
          "traceback": [
            "\u001b[0;31m---------------------------------------------------------------------------\u001b[0m",
            "\u001b[0;31mNameError\u001b[0m                                 Traceback (most recent call last)",
            "\u001b[0;32m<ipython-input-47-99370255b00f>\u001b[0m in \u001b[0;36m<module>\u001b[0;34m()\u001b[0m\n\u001b[1;32m      2\u001b[0m \u001b[0md\u001b[0m\u001b[0;34m=\u001b[0m\u001b[0;36m10\u001b[0m\u001b[0;34m\u001b[0m\u001b[0;34m\u001b[0m\u001b[0m\n\u001b[1;32m      3\u001b[0m \u001b[0;32mdel\u001b[0m \u001b[0md\u001b[0m\u001b[0;34m\u001b[0m\u001b[0;34m\u001b[0m\u001b[0m\n\u001b[0;32m----> 4\u001b[0;31m \u001b[0mprint\u001b[0m\u001b[0;34m(\u001b[0m\u001b[0ma\u001b[0m\u001b[0;34m,\u001b[0m\u001b[0md\u001b[0m\u001b[0;34m)\u001b[0m\u001b[0;34m\u001b[0m\u001b[0;34m\u001b[0m\u001b[0m\n\u001b[0m",
            "\u001b[0;31mNameError\u001b[0m: name 'd' is not defined"
          ]
        }
      ]
    },
    {
      "cell_type": "code",
      "metadata": {
        "id": "_WMEdyI_d5OS",
        "outputId": "906438b9-3da7-447f-8cdf-67ca269fe916",
        "colab": {
          "base_uri": "https://localhost:8080/",
          "height": 35
        }
      },
      "source": [
        "x=2.3453456\n",
        "print(int(x))"
      ],
      "execution_count": null,
      "outputs": [
        {
          "output_type": "stream",
          "text": [
            "2\n"
          ],
          "name": "stdout"
        }
      ]
    },
    {
      "cell_type": "code",
      "metadata": {
        "id": "IahQBrcKeO60",
        "outputId": "ffd24796-30bd-4b12-d3f9-1bc35a5fa968",
        "colab": {
          "base_uri": "https://localhost:8080/",
          "height": 35
        }
      },
      "source": [
        "a=23\n",
        "b=4\n",
        "print(complex(a))"
      ],
      "execution_count": null,
      "outputs": [
        {
          "output_type": "stream",
          "text": [
            "(23+0j)\n"
          ],
          "name": "stdout"
        }
      ]
    },
    {
      "cell_type": "code",
      "metadata": {
        "id": "UjW-qQINeycd",
        "outputId": "baac7e0e-a55e-417a-cf08-2cc240a468bb",
        "colab": {
          "base_uri": "https://localhost:8080/",
          "height": 35
        }
      },
      "source": [
        "a=34\n",
        "b=11\n",
        "a>b\n"
      ],
      "execution_count": null,
      "outputs": [
        {
          "output_type": "execute_result",
          "data": {
            "text/plain": [
              "True"
            ]
          },
          "metadata": {
            "tags": []
          },
          "execution_count": 30
        }
      ]
    },
    {
      "cell_type": "code",
      "metadata": {
        "id": "sBoSn3RhfeFj",
        "outputId": "69615630-9613-4b78-cc92-d3132982fb55",
        "colab": {
          "base_uri": "https://localhost:8080/",
          "height": 35
        }
      },
      "source": [
        "c={3,4,5,6}\n",
        "print(type(c))"
      ],
      "execution_count": null,
      "outputs": [
        {
          "output_type": "stream",
          "text": [
            "<class 'set'>\n"
          ],
          "name": "stdout"
        }
      ]
    },
    {
      "cell_type": "code",
      "metadata": {
        "id": "lrK78fR_gZYm"
      },
      "source": [
        ""
      ],
      "execution_count": null,
      "outputs": []
    },
    {
      "cell_type": "code",
      "metadata": {
        "id": "GQGUN5V5zPvk"
      },
      "source": [
        ""
      ],
      "execution_count": null,
      "outputs": []
    },
    {
      "cell_type": "markdown",
      "metadata": {
        "id": "oUcnZ_8kzRG-"
      },
      "source": [
        "#Operators\n"
      ]
    },
    {
      "cell_type": "code",
      "metadata": {
        "id": "MOYzvLFpzWp7",
        "outputId": "796771b9-cd22-461e-925b-1b1f4a42a791",
        "colab": {
          "base_uri": "https://localhost:8080/",
          "height": 35
        }
      },
      "source": [
        "a = 12\n",
        "b = 2\n",
        "add = a + b  \n",
        "sub = a - b  \n",
        "mul = a * b  \n",
        "div1 = a / b  \n",
        "# Division(floor) of number   \n",
        "div2 = a // b  \n",
        "# Modulo of both number,Reminder  \n",
        "mod = a % b \n",
        "print(mod) "
      ],
      "execution_count": null,
      "outputs": [
        {
          "output_type": "stream",
          "text": [
            "0\n"
          ],
          "name": "stdout"
        }
      ]
    },
    {
      "cell_type": "code",
      "metadata": {
        "id": "oviQJHB00EFT",
        "outputId": "fcff90fc-a449-4411-80cd-8b90cb85410a",
        "colab": {
          "base_uri": "https://localhost:8080/",
          "height": 127
        }
      },
      "source": [
        "a = 13\n",
        "b = 33\n",
        "  \n",
        "print(a > b)  \n",
        "print(a < b)  \n",
        "print(a == b)  \n",
        "print(a != b)  \n",
        "print(a >= b)  \n",
        "print(a <= b) "
      ],
      "execution_count": null,
      "outputs": [
        {
          "output_type": "stream",
          "text": [
            "False\n",
            "True\n",
            "False\n",
            "True\n",
            "False\n",
            "True\n"
          ],
          "name": "stdout"
        }
      ]
    },
    {
      "cell_type": "code",
      "metadata": {
        "id": "eKH9p3gT0UPE",
        "outputId": "b84e9cbf-4f50-4269-f624-f8900a823b8d",
        "colab": {
          "base_uri": "https://localhost:8080/",
          "height": 72
        }
      },
      "source": [
        "a = False\n",
        "b = True\n",
        "\n",
        "# Print a and b is False  \n",
        "print(a and b)  \n",
        "    \n",
        "# Print a or b is True  \n",
        "print(a or b)  \n",
        "    \n",
        "# Print not a is False  \n",
        "print(not b)"
      ],
      "execution_count": null,
      "outputs": [
        {
          "output_type": "stream",
          "text": [
            "False\n",
            "True\n",
            "False\n"
          ],
          "name": "stdout"
        }
      ]
    },
    {
      "cell_type": "code",
      "metadata": {
        "id": "E8RKWFnh0wkK",
        "outputId": "838643c4-fee9-48fa-bfe0-de1b203f3558",
        "colab": {
          "base_uri": "https://localhost:8080/",
          "height": 164
        }
      },
      "source": [
        "a=int(input(\"Enter first number\"))\n",
        "b=int(input(\"Enter second number\"))\n",
        "# Print bitwise AND operation    \n",
        "print(a & b)  \n",
        "# Print bitwise OR operation  \n",
        "print(a | b)  \n",
        "# Print bitwise NOT operation   \n",
        "print(~a)  \n",
        "# print bitwise XOR operation   \n",
        "print(a ^ b)  \n",
        "# print bitwise right shift operation   \n",
        "print(a >> 2)  \n",
        "# print bitwise left shift operation   \n",
        "print(a << 2) "
      ],
      "execution_count": null,
      "outputs": [
        {
          "output_type": "stream",
          "text": [
            "Enter first number2\n",
            "Enter second number3\n",
            "2\n",
            "3\n",
            "-3\n",
            "1\n",
            "0\n",
            "8\n"
          ],
          "name": "stdout"
        }
      ]
    },
    {
      "cell_type": "code",
      "metadata": {
        "id": "5lU9-ukB1Ru0",
        "outputId": "29ad4489-6723-4fed-cec6-62d984c671f2",
        "colab": {
          "base_uri": "https://localhost:8080/",
          "height": 90
        }
      },
      "source": [
        "a1 = 'PathAI'\n",
        "b1 = 'ML'\n",
        "# Identity operator \n",
        "print(b1 is not a1) \n",
        "print(a1 is b1) \n",
        "# Membership operator \n",
        "print(b1 in a1) \n",
        "print(\"A\" not in b1) "
      ],
      "execution_count": null,
      "outputs": [
        {
          "output_type": "stream",
          "text": [
            "True\n",
            "False\n",
            "False\n",
            "True\n"
          ],
          "name": "stdout"
        }
      ]
    },
    {
      "cell_type": "code",
      "metadata": {
        "id": "LVzDc8vnotqA",
        "outputId": "e2a61cc9-5851-4622-e436-73e54e91a227",
        "colab": {
          "base_uri": "https://localhost:8080/",
          "height": 72
        }
      },
      "source": [
        "n=int(input())\n",
        "print(\"Previous number\",n-1)\n",
        "print(\"Cube of the number\",n*n*n)"
      ],
      "execution_count": null,
      "outputs": [
        {
          "output_type": "stream",
          "text": [
            "2\n",
            "Previous number 1\n",
            "Cube of the number 8\n"
          ],
          "name": "stdout"
        }
      ]
    },
    {
      "cell_type": "markdown",
      "metadata": {
        "id": "xDvR3Q4MhvJV"
      },
      "source": [
        "#Control Structures\n"
      ]
    },
    {
      "cell_type": "code",
      "metadata": {
        "id": "sj7JOdCUh1Aj"
      },
      "source": [
        "hours_per_week = 20"
      ],
      "execution_count": null,
      "outputs": []
    },
    {
      "cell_type": "code",
      "metadata": {
        "id": "xyeCelZJuM-p"
      },
      "source": [
        "my_name=\"rini\""
      ],
      "execution_count": null,
      "outputs": []
    },
    {
      "cell_type": "code",
      "metadata": {
        "id": "Og2W23Woh2lo"
      },
      "source": [
        "if hours_per_week > 10:\n",
        "    print(my_name + \" you are doing well\")"
      ],
      "execution_count": null,
      "outputs": []
    },
    {
      "cell_type": "code",
      "metadata": {
        "id": "fFXNwp4yh53A",
        "outputId": "27b23976-6a2e-4041-987f-851a3554bf26",
        "colab": {
          "base_uri": "https://localhost:8080/",
          "height": 35
        }
      },
      "source": [
        "if (hours_per_week > 10):\n",
        "  print(my_name + \" you are doing well\")\n",
        "print(\"Outside If\")"
      ],
      "execution_count": null,
      "outputs": [
        {
          "output_type": "stream",
          "text": [
            "Outside If\n"
          ],
          "name": "stdout"
        }
      ]
    },
    {
      "cell_type": "code",
      "metadata": {
        "id": "cgR0wEJih-rg",
        "outputId": "785e9fa9-977c-45b9-bf8e-6e2cbd32a44b",
        "colab": {
          "base_uri": "https://localhost:8080/",
          "height": 35
        }
      },
      "source": [
        "if hours_per_week > 10:\n",
        "    print(my_name + \" you are doing well\")\n",
        "elif hours_per_week==10:\n",
        "  print(\"Better one keep doing\")\n",
        "else:\n",
        "    print(my_name + \" you need to study more\")"
      ],
      "execution_count": null,
      "outputs": [
        {
          "output_type": "stream",
          "text": [
            "rini you are doing well\n"
          ],
          "name": "stdout"
        }
      ]
    },
    {
      "cell_type": "code",
      "metadata": {
        "id": "o2tz8CwrvFKj",
        "outputId": "8fb7993d-6c91-41f3-8c30-86e2651c9933",
        "colab": {
          "base_uri": "https://localhost:8080/"
        }
      },
      "source": [
        "s=input(\"Please enter your character\")\n",
        "v=['a','e','i','o','u','A','E','I','O','U']\n",
        "if (s in v):\n",
        "  print(\"Entered is a vowel\")\n",
        "else:\n",
        "  print(\"Consonant\")\n"
      ],
      "execution_count": null,
      "outputs": [
        {
          "output_type": "stream",
          "text": [
            "Please enter your charactero\n",
            "Entered is a vowel\n"
          ],
          "name": "stdout"
        }
      ]
    },
    {
      "cell_type": "code",
      "metadata": {
        "id": "0C1TeZKKxHZe",
        "outputId": "5556034d-bf01-48c5-bd11-7deba75bce30",
        "colab": {
          "base_uri": "https://localhost:8080/"
        }
      },
      "source": [
        "s=input(\"Please enter your character\")\n",
        "if(s.isalnum()):\n",
        "  print(\"Entered is an alphabet\")\n",
        "else:\n",
        "  print(\"Others\")\n"
      ],
      "execution_count": null,
      "outputs": [
        {
          "output_type": "stream",
          "text": [
            "Please enter your character@\n",
            "Others\n"
          ],
          "name": "stdout"
        }
      ]
    },
    {
      "cell_type": "code",
      "metadata": {
        "id": "067ID3jbxsN5",
        "outputId": "ee3a013b-8d9b-4378-dc01-46713b36032d",
        "colab": {
          "base_uri": "https://localhost:8080/",
          "height": 54
        }
      },
      "source": [
        "s=int(input(\"Please enter your number\"))\n",
        "if(s%2==0 and s%4==0):\n",
        "  print(s)\n",
        "else:\n",
        "  print(s+10)\n"
      ],
      "execution_count": null,
      "outputs": [
        {
          "output_type": "stream",
          "text": [
            "Please enter your number6\n",
            "16\n"
          ],
          "name": "stdout"
        }
      ]
    },
    {
      "cell_type": "code",
      "metadata": {
        "id": "XM-qmnN5ykbL",
        "outputId": "b1d215eb-c087-4bff-db38-840ed02a80c1",
        "colab": {
          "base_uri": "https://localhost:8080/"
        }
      },
      "source": [
        "s=input(\"Please enter your name\")\n",
        "l=len(s)\n",
        "m=len(s)//2\n",
        "print(s[0],s[m])\n"
      ],
      "execution_count": null,
      "outputs": [
        {
          "output_type": "stream",
          "text": [
            "Please enter your namenityanandam\n",
            "n n\n"
          ],
          "name": "stdout"
        }
      ]
    },
    {
      "cell_type": "code",
      "metadata": {
        "id": "nX122gYr77cE"
      },
      "source": [
        "a=2\n",
        "b=4\n",
        "n=100\n",
        "for i in range(1,n+1):\n",
        "  if ((i%a==0) and (i%b!=0)):\n",
        "    print('fizz')\n",
        "  elif ((i%a!=0) and (i%b==0)):\n",
        "    print('buzz')\n",
        "  elif ((i%a==0) and (i%b==0)):\n",
        "    print('fizzbuzz')"
      ],
      "execution_count": null,
      "outputs": []
    },
    {
      "cell_type": "code",
      "metadata": {
        "id": "4oRTc0x9e8UA",
        "outputId": "5a529e99-dcde-4a15-f8cb-68662635af68",
        "colab": {
          "base_uri": "https://localhost:8080/"
        }
      },
      "source": [
        "weight = float(input(\"Enter your weight in kgs \"))\n",
        "height_unit = input('What is your preferred unit of height \"F\" of feet and \"M\" for meters ')\n",
        "\n",
        "if height_unit == \"F\":\n",
        "    feet = int(input((\"Please enter both feet and inches. Now enter feet \")))\n",
        "    inches = int(input((\"Now enter inches \")))\n",
        "    meters = (feet + inches/12) * 0.3048\n",
        "else:\n",
        "    meters = float(input(\"Please enter your height in meters \"))\n",
        "\n",
        "height = meters\n",
        "\n",
        "bmi = weight / height**2\n",
        "\n",
        "print(\"Your BMI is\", bmi)\n",
        "\n",
        "if bmi < 18.5:\n",
        "    print(\"You are UNDERWEIGHT. Please consult doctor\")\n",
        "elif bmi < 25:\n",
        "    print(\"You are NORMAL. Great going.\")\n",
        "elif bmi < 30:\n",
        "    print(\"You are OVERWEIGHT. Watch out.\")\n",
        "else:\n",
        "    print(\"You are VERY OVERWEIGHT. Please consult doctor\")"
      ],
      "execution_count": null,
      "outputs": [
        {
          "output_type": "stream",
          "text": [
            "Enter your weight in kgs 67\n",
            "What is your preferred unit of height \"F\" of feet and \"M\" for meters m\n",
            "Please enter your height in meters 1.67\n",
            "Your BMI is 24.023808670084982\n",
            "You are NORMAL. Great going.\n"
          ],
          "name": "stdout"
        }
      ]
    },
    {
      "cell_type": "markdown",
      "metadata": {
        "id": "YSY1iLtkDdDz"
      },
      "source": [
        "LOOPING"
      ]
    },
    {
      "cell_type": "code",
      "metadata": {
        "id": "G13TWMv5iDyK",
        "outputId": "27a81256-1904-4446-a4dc-e0ea8197a827",
        "colab": {
          "base_uri": "https://localhost:8080/",
          "height": 109
        }
      },
      "source": [
        "for i in range(5):\n",
        "    print(i)"
      ],
      "execution_count": null,
      "outputs": [
        {
          "output_type": "stream",
          "text": [
            "0\n",
            "1\n",
            "2\n",
            "3\n",
            "4\n"
          ],
          "name": "stdout"
        }
      ]
    },
    {
      "cell_type": "code",
      "metadata": {
        "id": "kjZqHyGTiGtU",
        "outputId": "b0928566-434a-449d-898e-9365751423dd",
        "colab": {
          "base_uri": "https://localhost:8080/",
          "height": 72
        }
      },
      "source": [
        "for i in range(2, 5):\n",
        "    print(i, pow(i,3))"
      ],
      "execution_count": null,
      "outputs": [
        {
          "output_type": "stream",
          "text": [
            "2 8\n",
            "3 27\n",
            "4 64\n"
          ],
          "name": "stdout"
        }
      ]
    },
    {
      "cell_type": "code",
      "metadata": {
        "id": "u9ztFX3hV43W",
        "outputId": "3b41558e-93ef-4c80-d92a-d8b596e7f4ec",
        "colab": {
          "base_uri": "https://localhost:8080/"
        }
      },
      "source": [
        "i=1\n",
        "while (i<10):\n",
        "  print(i)\n",
        "  i=i+1\n",
        " "
      ],
      "execution_count": null,
      "outputs": [
        {
          "output_type": "stream",
          "text": [
            "1\n",
            "2\n",
            "3\n",
            "4\n",
            "5\n",
            "6\n",
            "7\n",
            "8\n",
            "9\n"
          ],
          "name": "stdout"
        }
      ]
    },
    {
      "cell_type": "code",
      "metadata": {
        "id": "R5bTt54mmGEN"
      },
      "source": [
        "a=0\n",
        "for j in range(1, 100, 2):\n",
        "    print(j)"
      ],
      "execution_count": null,
      "outputs": []
    },
    {
      "cell_type": "code",
      "metadata": {
        "id": "AxXF5ft6f1yS",
        "outputId": "1bf61a83-34a6-4dc3-837d-27589d51e48e",
        "colab": {
          "base_uri": "https://localhost:8080/",
          "height": 164
        }
      },
      "source": [
        "m=int(input((\"Input first range\")))\n",
        "n=int(input((\"Second range\")))\n",
        "for i in range(m,n+1,2):\n",
        "  print(i)"
      ],
      "execution_count": null,
      "outputs": [
        {
          "output_type": "stream",
          "text": [
            "Input first range0\n",
            "Second range10\n",
            "0\n",
            "2\n",
            "4\n",
            "6\n",
            "8\n",
            "10\n"
          ],
          "name": "stdout"
        }
      ]
    },
    {
      "cell_type": "code",
      "metadata": {
        "id": "kAdG_0rwkIiY",
        "outputId": "f97cbab3-97cd-4596-c984-e8f8ad20b998",
        "colab": {
          "base_uri": "https://localhost:8080/",
          "height": 54
        }
      },
      "source": [
        "x,y,z=map(int,(input().split(\" \")))\n",
        "print(x+y+z)"
      ],
      "execution_count": null,
      "outputs": [
        {
          "output_type": "stream",
          "text": [
            "10 20 30\n",
            "60\n"
          ],
          "name": "stdout"
        }
      ]
    },
    {
      "cell_type": "markdown",
      "metadata": {
        "id": "pkSZAr_dr6PJ"
      },
      "source": [
        "#More on loops"
      ]
    },
    {
      "cell_type": "code",
      "metadata": {
        "id": "79DqfDEwr5Ec",
        "outputId": "e2bcb573-8769-460e-dd2b-c02a6b5a54b0",
        "colab": {
          "base_uri": "https://localhost:8080/",
          "height": 90
        }
      },
      "source": [
        "fruits = [\"apple\", \"banana\",5,1.34]\n",
        "for x in fruits:\n",
        " print(x)"
      ],
      "execution_count": null,
      "outputs": [
        {
          "output_type": "stream",
          "text": [
            "apple\n",
            "banana\n",
            "5\n",
            "1.34\n"
          ],
          "name": "stdout"
        }
      ]
    },
    {
      "cell_type": "code",
      "metadata": {
        "id": "qbz1O7S9sOGS",
        "outputId": "26dd4c93-cd16-493b-e978-b643067ab018",
        "colab": {
          "base_uri": "https://localhost:8080/",
          "height": 90
        }
      },
      "source": [
        "#sorted,reversed\n",
        "albums = ('Poe','Guadi','Freud','Poe2')\n",
        "years = (1976,1987,1990,2003)\n",
        "for i in reversed(albums):\n",
        "  print(i)"
      ],
      "execution_count": null,
      "outputs": [
        {
          "output_type": "stream",
          "text": [
            "Poe2\n",
            "Freud\n",
            "Guadi\n",
            "Poe\n"
          ],
          "name": "stdout"
        }
      ]
    },
    {
      "cell_type": "code",
      "metadata": {
        "id": "XQr_rQyitw9l",
        "outputId": "ce70d2cf-6530-4a28-d636-80b3212cf574",
        "colab": {
          "base_uri": "https://localhost:8080/",
          "height": 90
        }
      },
      "source": [
        "albums =('Poe','Guadi','Freud','Poe2')\n",
        "years = ( 1976, 1987, 1990, 2003 )\n",
        "for i, album in enumerate(albums,20):\n",
        "  print (i,album)"
      ],
      "execution_count": null,
      "outputs": [
        {
          "output_type": "stream",
          "text": [
            "20 Poe\n",
            "21 Guadi\n",
            "22 Freud\n",
            "23 Poe2\n"
          ],
          "name": "stdout"
        }
      ]
    },
    {
      "cell_type": "code",
      "metadata": {
        "id": "HTU13e3qvJH8",
        "outputId": "9d8950a3-0861-4724-bc2a-6e7b15d82199",
        "colab": {
          "base_uri": "https://localhost:8080/",
          "height": 90
        }
      },
      "source": [
        "albums = ('Poe','Guadi','Freud','Poe2')\n",
        "years = ( 1976, 1987, 1990, 2003,2020 )\n",
        "for album, yr in zip(albums, years):\n",
        "  print (album, yr)"
      ],
      "execution_count": null,
      "outputs": [
        {
          "output_type": "stream",
          "text": [
            "Poe 1976\n",
            "Guadi 1987\n",
            "Freud 1990\n",
            "Poe2 2003\n"
          ],
          "name": "stdout"
        }
      ]
    },
    {
      "cell_type": "code",
      "metadata": {
        "id": "_uCQOPeJvesa"
      },
      "source": [
        "i = 1\n",
        "while i < 6:\n",
        "  print(i)\n",
        "  if i == 4:\n",
        "    break\n",
        "  i += 1"
      ],
      "execution_count": null,
      "outputs": []
    },
    {
      "cell_type": "code",
      "metadata": {
        "id": "q10V-xfLlyWh"
      },
      "source": [
        ""
      ],
      "execution_count": null,
      "outputs": []
    },
    {
      "cell_type": "code",
      "metadata": {
        "id": "3YuFjLvfwFdH",
        "outputId": "9a302dd0-3c59-4b9c-a8e9-cf58add05d65",
        "colab": {
          "base_uri": "https://localhost:8080/",
          "height": 109
        }
      },
      "source": [
        "i = 0\n",
        "while i < 6:\n",
        "  i += 1\n",
        "  if i == 3:\n",
        "    continue\n",
        "  print(i)"
      ],
      "execution_count": null,
      "outputs": [
        {
          "output_type": "stream",
          "text": [
            "1\n",
            "2\n",
            "4\n",
            "5\n",
            "6\n"
          ],
          "name": "stdout"
        }
      ]
    },
    {
      "cell_type": "code",
      "metadata": {
        "id": "zONu-d89xGZG"
      },
      "source": [
        "for i in range(1, 11):  \n",
        "    if i == 6:  \n",
        "        break;\n",
        "    else:  \n",
        "        print(i) "
      ],
      "execution_count": null,
      "outputs": []
    },
    {
      "cell_type": "code",
      "metadata": {
        "id": "gmt2XWtKw30j"
      },
      "source": [
        "sequence = ('f', 'a', 's', 't')\n",
        "for val in sequence:\n",
        "  pass"
      ],
      "execution_count": null,
      "outputs": []
    },
    {
      "cell_type": "code",
      "metadata": {
        "id": "n_T9i4Uwi9lT",
        "outputId": "4fcf9c6d-048f-43a9-d879-dddf99ac9922",
        "colab": {
          "base_uri": "https://localhost:8080/",
          "height": 72
        }
      },
      "source": [
        "x=list(map(int,input().split()))\n",
        "#a,b,c,d=map(int,input().split()))\n",
        "print(x)\n",
        "p=1\n",
        "for i in x:\n",
        "  p=p*i\n",
        "print(p)\n"
      ],
      "execution_count": null,
      "outputs": [
        {
          "output_type": "stream",
          "text": [
            "2 10 2\n",
            "[2, 10, 2]\n",
            "40\n"
          ],
          "name": "stdout"
        }
      ]
    },
    {
      "cell_type": "code",
      "metadata": {
        "id": "oKQXBQIzku2S",
        "outputId": "6d148379-496e-46cb-ca5f-a6a88327a051",
        "colab": {
          "base_uri": "https://localhost:8080/",
          "height": 219
        }
      },
      "source": [
        "N=int(input(\"Enter the Nth multiplication\"))\n",
        "for i in range(1,11):\n",
        "  print(i,\"X\",N,\"=\",i*N)"
      ],
      "execution_count": null,
      "outputs": [
        {
          "output_type": "stream",
          "text": [
            "Enter the Nth multiplication3\n",
            "1 X 3 = 3\n",
            "2 X 3 = 6\n",
            "3 X 3 = 9\n",
            "4 X 3 = 12\n",
            "5 X 3 = 15\n",
            "6 X 3 = 18\n",
            "7 X 3 = 21\n",
            "8 X 3 = 24\n",
            "9 X 3 = 27\n",
            "10 X 3 = 30\n"
          ],
          "name": "stdout"
        }
      ]
    },
    {
      "cell_type": "code",
      "metadata": {
        "id": "6R715g7Alz2g",
        "outputId": "c16f6fba-e674-4c85-c3eb-7faa44559cb7",
        "colab": {
          "base_uri": "https://localhost:8080/",
          "height": 127
        }
      },
      "source": [
        "n=int(input(\"No of lines\"))\n",
        "for i in range(0,n):\n",
        "  for m in range(0,i):\n",
        "    print(\"*\",end=\"\")\n",
        "  print(\"\")"
      ],
      "execution_count": null,
      "outputs": [
        {
          "output_type": "stream",
          "text": [
            "No of lines5\n",
            "\n",
            "*\n",
            "**\n",
            "***\n",
            "****\n"
          ],
          "name": "stdout"
        }
      ]
    },
    {
      "cell_type": "code",
      "metadata": {
        "id": "Sj31Lk4YoSKG",
        "outputId": "5e241f16-249e-4630-802a-661d03f36f75",
        "colab": {
          "base_uri": "https://localhost:8080/",
          "height": 54
        }
      },
      "source": [
        "n,min,max=map(int,input().split(\" \"))\n",
        "i=1\n",
        "count=0\n",
        "flag=1\n",
        "while(flag==1):\n",
        "  if((pow(i,n)>=min and pow(i,n)<=max)):\n",
        "    count=count+1 \n",
        "    #count+=1\n",
        "  if(pow(i,n)>max):\n",
        "    flag=0\n",
        "  i=i+1\n",
        "print(\"No of power of n values within the range are\",count)\n",
        "\n"
      ],
      "execution_count": null,
      "outputs": [
        {
          "output_type": "stream",
          "text": [
            "3 10 200\n",
            "No of power of n values within the range are 3\n"
          ],
          "name": "stdout"
        }
      ]
    },
    {
      "cell_type": "code",
      "metadata": {
        "id": "nN9pvn6BunRg",
        "outputId": "d525d4d3-12ba-4678-b97e-ff6591ed3414",
        "colab": {
          "base_uri": "https://localhost:8080/",
          "height": 366
        }
      },
      "source": [
        "(row=int(input())\n",
        "for i in range(1,row):\n",
        "  for j in range(1,i):\n",
        "    print(j,end=\" \")\n",
        "  print(\"\\n\")\n"
      ],
      "execution_count": null,
      "outputs": [
        {
          "output_type": "stream",
          "text": [
            "10\n",
            "\n",
            "\n",
            "1 \n",
            "\n",
            "1 2 \n",
            "\n",
            "1 2 3 \n",
            "\n",
            "1 2 3 4 \n",
            "\n",
            "1 2 3 4 5 \n",
            "\n",
            "1 2 3 4 5 6 \n",
            "\n",
            "1 2 3 4 5 6 7 \n",
            "\n",
            "1 2 3 4 5 6 7 8 \n",
            "\n"
          ],
          "name": "stdout"
        }
      ]
    },
    {
      "cell_type": "markdown",
      "metadata": {
        "id": "1Ab9Cb1Gsre3"
      },
      "source": [
        "#String Processing"
      ]
    },
    {
      "cell_type": "code",
      "metadata": {
        "id": "hH18Wm0rsrfI"
      },
      "source": [
        "topic = \"Fundamentals of python\""
      ],
      "execution_count": null,
      "outputs": []
    },
    {
      "cell_type": "code",
      "metadata": {
        "id": "FaNrw1-7srf-",
        "outputId": "d449e709-fc28-4c1d-8ba6-bfffacce5355",
        "colab": {
          "base_uri": "https://localhost:8080/",
          "height": 54
        }
      },
      "source": [
        "print(topic[-2])\n",
        "len1=len(topic)\n",
        "print(len1)\n"
      ],
      "execution_count": null,
      "outputs": [
        {
          "output_type": "stream",
          "text": [
            "o\n",
            "22\n"
          ],
          "name": "stdout"
        }
      ]
    },
    {
      "cell_type": "code",
      "metadata": {
        "id": "_sjzjw4rsrgb",
        "outputId": "33814fed-3007-41e0-ccc9-ca66b1939b37",
        "colab": {
          "base_uri": "https://localhost:8080/",
          "height": 35
        }
      },
      "source": [
        "#SLicing\n",
        "print(topic[3:10])"
      ],
      "execution_count": null,
      "outputs": [
        {
          "output_type": "stream",
          "text": [
            "damenta\n"
          ],
          "name": "stdout"
        }
      ]
    },
    {
      "cell_type": "code",
      "metadata": {
        "id": "-LCYwe4Qsrg0",
        "outputId": "f4fb5510-8c7e-4932-fc0d-5c7deaa02dbb",
        "colab": {
          "base_uri": "https://localhost:8080/",
          "height": 35
        }
      },
      "source": [
        "print(topic[2:8])"
      ],
      "execution_count": null,
      "outputs": [
        {
          "output_type": "stream",
          "text": [
            "ndamen\n"
          ],
          "name": "stdout"
        }
      ]
    },
    {
      "cell_type": "code",
      "metadata": {
        "id": "dp69mhX2srhM",
        "outputId": "fc554f39-db9c-4e08-f419-0a88bbc100d5",
        "colab": {
          "base_uri": "https://localhost:8080/",
          "height": 35
        }
      },
      "source": [
        "print(topic[7:])"
      ],
      "execution_count": null,
      "outputs": [
        {
          "output_type": "stream",
          "text": [
            "ntals of python\n"
          ],
          "name": "stdout"
        }
      ]
    },
    {
      "cell_type": "code",
      "metadata": {
        "id": "X9CYSk5idG5Z",
        "outputId": "2c1d6d04-1acb-4ada-d324-dce40521d055",
        "colab": {
          "base_uri": "https://localhost:8080/",
          "height": 35
        }
      },
      "source": [
        "print(topic[::-1])"
      ],
      "execution_count": null,
      "outputs": [
        {
          "output_type": "stream",
          "text": [
            "nohtyp fo slatnemadnuF\n"
          ],
          "name": "stdout"
        }
      ]
    },
    {
      "cell_type": "code",
      "metadata": {
        "id": "oDVnKnuMX7bo",
        "outputId": "a86f242b-ea09-4f30-eab1-4e5bd3bcce8c",
        "colab": {
          "base_uri": "https://localhost:8080/",
          "height": 35
        }
      },
      "source": [
        "print(topic[2:20:3])"
      ],
      "execution_count": null,
      "outputs": [
        {
          "output_type": "stream",
          "text": [
            "nmtsfy\n"
          ],
          "name": "stdout"
        }
      ]
    },
    {
      "cell_type": "code",
      "metadata": {
        "id": "pw4AUCEZYXX6",
        "outputId": "f81bdd62-4990-477d-b066-c551848d61ae",
        "colab": {
          "base_uri": "https://localhost:8080/",
          "height": 35
        }
      },
      "source": [
        "a=\"  roh  ini \"\n",
        "print(a.strip())"
      ],
      "execution_count": null,
      "outputs": [
        {
          "output_type": "stream",
          "text": [
            "roh  ini\n"
          ],
          "name": "stdout"
        }
      ]
    },
    {
      "cell_type": "code",
      "metadata": {
        "id": "LXARzdzKY3to",
        "outputId": "2386824b-bc1a-4a23-e120-9be3a4830b33",
        "colab": {
          "base_uri": "https://localhost:8080/",
          "height": 54
        }
      },
      "source": [
        "\n",
        "a=\"Hello your my world\"\n",
        "print(a[1])\n",
        "lst=a.split()\n",
        "print(lst)"
      ],
      "execution_count": null,
      "outputs": [
        {
          "output_type": "stream",
          "text": [
            "e\n",
            "['Hello', 'your', 'my', 'world']\n"
          ],
          "name": "stdout"
        }
      ]
    },
    {
      "cell_type": "code",
      "metadata": {
        "id": "QcnRA5SSYVde"
      },
      "source": [
        ""
      ],
      "execution_count": null,
      "outputs": []
    },
    {
      "cell_type": "code",
      "metadata": {
        "id": "i72qzQ1Xsrh2",
        "outputId": "ece9a8e0-bceb-45b0-9f84-07f2b940974d",
        "colab": {
          "base_uri": "https://localhost:8080/",
          "height": 35
        }
      },
      "source": [
        "print(topic.lower())"
      ],
      "execution_count": null,
      "outputs": [
        {
          "output_type": "stream",
          "text": [
            "fundamentals of python\n"
          ],
          "name": "stdout"
        }
      ]
    },
    {
      "cell_type": "code",
      "metadata": {
        "id": "XeucVkjYsriN",
        "outputId": "de553408-7c30-4d59-d750-7f268661f092",
        "colab": {
          "base_uri": "https://localhost:8080/",
          "height": 35
        }
      },
      "source": [
        "print(topic.upper())"
      ],
      "execution_count": null,
      "outputs": [
        {
          "output_type": "stream",
          "text": [
            "FUNDAMENTALS OF PYTHON\n"
          ],
          "name": "stdout"
        }
      ]
    },
    {
      "cell_type": "code",
      "metadata": {
        "id": "V-rRYjIisrie",
        "outputId": "59113a20-bffc-4be8-8b06-cceda99060f0",
        "colab": {
          "base_uri": "https://localhost:8080/",
          "height": 54
        }
      },
      "source": [
        "print(topic)\n",
        "print(topic.islower())"
      ],
      "execution_count": null,
      "outputs": [
        {
          "output_type": "stream",
          "text": [
            "Fundamentals of python\n",
            "False\n"
          ],
          "name": "stdout"
        }
      ]
    },
    {
      "cell_type": "code",
      "metadata": {
        "id": "Ue0cSL-Asriy",
        "outputId": "59e00389-0683-4ec0-9acd-ce0f9f3ec69b",
        "colab": {
          "base_uri": "https://localhost:8080/",
          "height": 35
        }
      },
      "source": [
        "print(topic.find(\"Funda\"))"
      ],
      "execution_count": null,
      "outputs": [
        {
          "output_type": "stream",
          "text": [
            "0\n"
          ],
          "name": "stdout"
        }
      ]
    },
    {
      "cell_type": "code",
      "metadata": {
        "id": "Vnlpnp67srjF",
        "outputId": "a3ddd2e5-8b98-45bf-f387-0e1613d725cc",
        "colab": {
          "base_uri": "https://localhost:8080/",
          "height": 35
        }
      },
      "source": [
        "print(topic[16])"
      ],
      "execution_count": null,
      "outputs": [
        {
          "output_type": "stream",
          "text": [
            "P\n"
          ],
          "name": "stdout"
        }
      ]
    },
    {
      "cell_type": "code",
      "metadata": {
        "id": "OAveVioZsrjW",
        "outputId": "f4ccad83-124f-4d30-baa1-9be15b901362",
        "colab": {
          "base_uri": "https://localhost:8080/",
          "height": 54
        }
      },
      "source": [
        "print(topic.replace(\"python\",\"on\"))\n",
        "print(topic)"
      ],
      "execution_count": null,
      "outputs": [
        {
          "output_type": "stream",
          "text": [
            "Fundamentals of on\n",
            "Fundamentals of python\n"
          ],
          "name": "stdout"
        }
      ]
    },
    {
      "cell_type": "code",
      "metadata": {
        "id": "U39YBGPpsrjw",
        "outputId": "d13ab705-9629-417a-84ce-3e8b8e2d5696",
        "colab": {
          "base_uri": "https://localhost:8080/",
          "height": 35
        }
      },
      "source": [
        "print(topic.replace(\"Fun\", \"BY\"))"
      ],
      "execution_count": null,
      "outputs": [
        {
          "output_type": "stream",
          "text": [
            "BYdamentals of python\n"
          ],
          "name": "stdout"
        }
      ]
    },
    {
      "cell_type": "code",
      "metadata": {
        "id": "Wv723ooasrkE",
        "outputId": "a1a3febb-b914-4e10-ec24-bbdbbbb8e45b",
        "colab": {
          "base_uri": "https://localhost:8080/",
          "height": 35
        }
      },
      "source": [
        "print(topic*3)"
      ],
      "execution_count": null,
      "outputs": [
        {
          "output_type": "stream",
          "text": [
            "FUNDAMENTALS OF PYTHONFUNDAMENTALS OF PYTHONFUNDAMENTALS OF PYTHON$"
          ],
          "name": "stdout"
        }
      ]
    },
    {
      "cell_type": "code",
      "metadata": {
        "id": "Qp5qUQvdYzQv",
        "outputId": "73765bc5-85a5-49f0-ae87-5e22f196689e",
        "colab": {
          "base_uri": "https://localhost:8080/",
          "height": 54
        }
      },
      "source": [
        "#to print input Swap the case and print from third letter\n",
        "x=input()\n",
        "print(x[0:2],x[2:].swapcase())"
      ],
      "execution_count": null,
      "outputs": [
        {
          "output_type": "stream",
          "text": [
            "GLEANUP\n",
            "GL eanup\n"
          ],
          "name": "stdout"
        }
      ]
    },
    {
      "cell_type": "code",
      "metadata": {
        "id": "3UMY5TvkdXHJ",
        "outputId": "2bae7d9d-7bf2-4dd6-80ff-dd5ac1d9b9fd",
        "colab": {
          "base_uri": "https://localhost:8080/",
          "height": 54
        }
      },
      "source": [
        "# add seperators to input string\n",
        "r=input()\n",
        "sep=\"%\"\n",
        "print(sep.join(r))"
      ],
      "execution_count": null,
      "outputs": [
        {
          "output_type": "stream",
          "text": [
            "gleanup\n",
            "g%l%e%a%n%u%p\n"
          ],
          "name": "stdout"
        }
      ]
    },
    {
      "cell_type": "code",
      "metadata": {
        "id": "e9vAzDapdWZw",
        "outputId": "5a9c6b7c-165a-4cec-f029-656df409dd1f",
        "colab": {
          "base_uri": "https://localhost:8080/",
          "height": 35
        }
      },
      "source": [
        "s='''fege\n",
        "fger ergtr\n",
        "42t5\n",
        "44 thhj kly\n",
        "gfjgf'''\n",
        "print(s[0])"
      ],
      "execution_count": null,
      "outputs": [
        {
          "output_type": "stream",
          "text": [
            "f\n"
          ],
          "name": "stdout"
        }
      ]
    },
    {
      "cell_type": "code",
      "metadata": {
        "id": "sIM_w-Ndcv59"
      },
      "source": [
        "C=300\n",
        "\n",
        "print(C%N)"
      ],
      "execution_count": null,
      "outputs": []
    },
    {
      "cell_type": "code",
      "metadata": {
        "id": "hfAWx3SVJsgn",
        "outputId": "aed814d0-51e6-42d6-a5bf-6c9b54f61261",
        "colab": {
          "base_uri": "https://localhost:8080/",
          "height": 35
        }
      },
      "source": [
        "#substring is present n string or not \n",
        "s1=\"rohini is girl\"\n",
        "s2=\"is\"\n",
        "if s2 in s1:\n",
        "  print(\"yes\")\n",
        "else:\n",
        "  print(\"no\")"
      ],
      "execution_count": null,
      "outputs": [
        {
          "output_type": "stream",
          "text": [
            "yes\n"
          ],
          "name": "stdout"
        }
      ]
    },
    {
      "cell_type": "code",
      "metadata": {
        "id": "DhLhZmdvi_wH",
        "outputId": "b3859007-969f-4b52-f1a7-76e0f55ef7c3",
        "colab": {
          "base_uri": "https://localhost:8080/",
          "height": 54
        }
      },
      "source": [
        "#to check number or alphabet\n",
        "r=input()\n",
        "#if (r.isdigit()):\n",
        "if (r.isalpha()):\n",
        "  print(\"only alphabets\")\n",
        "else:\n",
        "  print(\"numbers also\")\n"
      ],
      "execution_count": null,
      "outputs": [
        {
          "output_type": "stream",
          "text": [
            "rohini22\n",
            "numbers also\n"
          ],
          "name": "stdout"
        }
      ]
    },
    {
      "cell_type": "code",
      "metadata": {
        "id": "36WepsI2D96g",
        "outputId": "7188abd6-9584-445b-9455-fb8a2500e376",
        "colab": {
          "base_uri": "https://localhost:8080/",
          "height": 54
        }
      },
      "source": [
        "f=input().split()\n",
        "for i in f:\n",
        "  if i.endswith(\"a\"):\n",
        "    print(i,end=\" \")"
      ],
      "execution_count": null,
      "outputs": [
        {
          "output_type": "stream",
          "text": [
            "mana\n",
            "mana "
          ],
          "name": "stdout"
        }
      ]
    },
    {
      "cell_type": "code",
      "metadata": {
        "id": "B7veETImILWm",
        "outputId": "fee19637-a6bd-4d1b-a8d7-ce7c583488b7",
        "colab": {
          "base_uri": "https://localhost:8080/",
          "height": 90
        }
      },
      "source": [
        "#read a string, at 'n'th character, insert char 'c' '''\n",
        "s=input(\"enter a string: \") \n",
        "n=int(input(\"enter n: \"))\n",
        "c=input(\"enter a character to replace: \")\n",
        "s=s[0:n]+c+s[n:] \n",
        "print(\"output string = \",s)"
      ],
      "execution_count": null,
      "outputs": [
        {
          "output_type": "stream",
          "text": [
            "enter a string: flower\n",
            "enter n: 4\n",
            "enter a character to replace: r\n",
            "output string =  flowrer\n"
          ],
          "name": "stdout"
        }
      ]
    },
    {
      "cell_type": "code",
      "metadata": {
        "id": "7UHBkUUdJYrK",
        "outputId": "c0977cbc-cb6c-4054-e1e6-c4b44ff06f39",
        "colab": {
          "base_uri": "https://localhost:8080/",
          "height": 72
        }
      },
      "source": [
        "#count a character in a string \n",
        "s=input(\"enter a string: \")\n",
        "c=input(\"enter a char: \")\n",
        "count=0 \n",
        "for i in s: \n",
        "  if i==c: \n",
        "    count=count+1 \n",
        "print(\"the character \",c,\"Occurs\",count,\"Times\")"
      ],
      "execution_count": null,
      "outputs": [
        {
          "output_type": "stream",
          "text": [
            "enter a string: flower\n",
            "enter a char: c\n",
            "the character  c Occurs 0 Times\n"
          ],
          "name": "stdout"
        }
      ]
    },
    {
      "cell_type": "code",
      "metadata": {
        "id": "cfZ_ZBD7h14O",
        "outputId": "5a738a38-73b1-4699-c979-d3ac116ee6b9",
        "colab": {
          "base_uri": "https://localhost:8080/",
          "height": 35
        }
      },
      "source": [
        "print(\"This is called as \\\"escaping character\\\"\")"
      ],
      "execution_count": null,
      "outputs": [
        {
          "output_type": "stream",
          "text": [
            "This is called as \"escaping character\"\n"
          ],
          "name": "stdout"
        }
      ]
    },
    {
      "cell_type": "markdown",
      "metadata": {
        "id": "Vdm2pz1KceZ3"
      },
      "source": [
        "#REGEX\n"
      ]
    },
    {
      "cell_type": "code",
      "metadata": {
        "id": "8gE6ZlP3cWHP",
        "outputId": "530525a0-28bf-4016-e7f8-2e032cd20ef9",
        "colab": {
          "base_uri": "https://localhost:8080/",
          "height": 35
        }
      },
      "source": [
        "import re\n",
        "i='''dat,pat mat,rat,data\n",
        "adsfgsadg\n",
        "sdgfsdg\n",
        "sdgsfadg'''\n",
        "rex=re.search(\"dat\",i)\n",
        "print(rex.group())\n",
        " "
      ],
      "execution_count": null,
      "outputs": [
        {
          "output_type": "stream",
          "text": [
            "<_sre.SRE_Match object; span=(0, 3), match='dat'>\n"
          ],
          "name": "stdout"
        }
      ]
    },
    {
      "cell_type": "code",
      "metadata": {
        "id": "2Y048zAveJFD",
        "outputId": "50ec9cfb-adba-41a8-cd0e-a3d9c4f75a41",
        "colab": {
          "base_uri": "https://localhost:8080/",
          "height": 35
        }
      },
      "source": [
        "import re \n",
        "i=\"dat,pat mat,rat,data\"\n",
        "rex=re.findall(\"[d]\",i)\n",
        "print(rex)"
      ],
      "execution_count": null,
      "outputs": [
        {
          "output_type": "stream",
          "text": [
            "['d', 'd']\n"
          ],
          "name": "stdout"
        }
      ]
    },
    {
      "cell_type": "code",
      "metadata": {
        "id": "gl3UAMYtgpZF",
        "outputId": "a3791b35-4f5e-43fb-a680-24b2775f6df7",
        "colab": {
          "base_uri": "https://localhost:8080/",
          "height": 54
        }
      },
      "source": [
        "import re\n",
        "i=\"dat,pat mat,rat,data\"\n",
        "rex=re.finditer(\"dat\",i)\n",
        "for i in rex:\n",
        "  print(i.span())"
      ],
      "execution_count": null,
      "outputs": [
        {
          "output_type": "stream",
          "text": [
            "(0, 3)\n",
            "(16, 19)\n"
          ],
          "name": "stdout"
        }
      ]
    },
    {
      "cell_type": "code",
      "metadata": {
        "id": "UhDWuE5gg8ZW",
        "outputId": "b328df0a-37d3-4657-909e-671805fc92ec",
        "colab": {
          "base_uri": "https://localhost:8080/",
          "height": 35
        }
      },
      "source": [
        "import re\n",
        "i=\"dat,pat mat,rat,data\"\n",
        "rex=re.findall(\"[a-m]ata\",i)\n",
        "for im in rex:\n",
        "  print(im)"
      ],
      "execution_count": null,
      "outputs": [
        {
          "output_type": "stream",
          "text": [
            "data\n"
          ],
          "name": "stdout"
        }
      ]
    },
    {
      "cell_type": "code",
      "metadata": {
        "id": "kY3z3X1r4xbk",
        "outputId": "15c85059-3f9b-4b5b-97e5-23867e897926",
        "colab": {
          "base_uri": "https://localhost:8080/",
          "height": 35
        }
      },
      "source": [
        "\n",
        "# Module Regular Expression is imported using __import__(). \n",
        "import re \n",
        "\n",
        "# compile() creates regular expression character class [a-e], \n",
        "# which is equivalent to [abcde]. \n",
        "# class [abcde] will match with string with 'a', 'b', 'c', 'd', 'e'. \n",
        "\n",
        "p = re.compile('[a-z]') \n",
        "  \n",
        "# findall() searches for the Regular Expression and return a list upon finding \n",
        "print(p.findall(\"Its covid pandemic times\")) \n"
      ],
      "execution_count": null,
      "outputs": [
        {
          "output_type": "stream",
          "text": [
            "['t', 's', 'c', 'o', 'v', 'i', 'd', 'p', 'a', 'n', 'd', 'e', 'm', 'i', 'c', 't', 'i', 'm', 'e', 's']\n"
          ],
          "name": "stdout"
        }
      ]
    },
    {
      "cell_type": "code",
      "metadata": {
        "id": "LLGE3IiV56BT",
        "outputId": "c176b720-b800-4fff-cf38-267167c2d082",
        "colab": {
          "base_uri": "https://localhost:8080/",
          "height": 54
        }
      },
      "source": [
        "\n",
        "import re \n",
        "  \n",
        "# \\d is equivalent to [0-9]. \n",
        "p = re.compile('\\d') \n",
        "print(p.findall(\"I met him on 02.10.1989 during evening 6.25pm\")) \n",
        "  \n",
        "# \\d+ will match a group on [0-9], group of one or greater size \n",
        "p = re.compile('\\d+') \n",
        "print(p.findall(\"I met him on 02.10.1989 during evening 6.25pm\")) \n"
      ],
      "execution_count": null,
      "outputs": [
        {
          "output_type": "stream",
          "text": [
            "['0', '2', '1', '0', '1', '9', '8', '9', '6', '2', '5']\n",
            "['02', '10', '1989', '6', '25']\n"
          ],
          "name": "stdout"
        }
      ]
    },
    {
      "cell_type": "code",
      "metadata": {
        "id": "OrhxW3vp6WGr",
        "outputId": "30382ca2-70f7-415e-bfb0-11f8a45a4e15",
        "colab": {
          "base_uri": "https://localhost:8080/",
          "height": 147
        }
      },
      "source": [
        "\n",
        "import re \n",
        "  \n",
        "# \\w is equivalent to [a-zA-Z0-9_]. \n",
        "p = re.compile('\\w') \n",
        "print(p.findall(\"her id changed on 11.02.2020 as mrohinibtech@xyz.co.in\")) \n",
        "  \n",
        "# \\w+ matches to group of alphanumeric character. \n",
        "p = re.compile('\\w+') \n",
        "print(p.findall(\"her id changed on 11.02.2020 as mrohinibtech@xyz.co.in\")) \n",
        "  \n",
        "# \\W matches to non alphanumeric characters. \n",
        "p = re.compile('\\W') \n",
        "print(p.findall(\"her id changed on 11.02.2020 as mrohinibtech@xyz.co.in\"))\n",
        "\n",
        "p = re.compile('\\d+') \n",
        "print(p.findall(\"her id changed on 11.02.2020 as mrohinibtech@xyz.co.in\"))\n",
        "\n",
        "p = re.compile('\\S') \n",
        "print(p.findall(\"her id changed on 11.02.2020 as mrohinibtech@xyz.co.in\"))\n",
        "\n",
        "p = re.compile('\\s') \n",
        "print(p.findall(\"her id changed on 11.02.2020 as mrohinibtech@xyz.co.in\"))"
      ],
      "execution_count": null,
      "outputs": [
        {
          "output_type": "stream",
          "text": [
            "['h', 'e', 'r', 'i', 'd', 'c', 'h', 'a', 'n', 'g', 'e', 'd', 'o', 'n', '1', '1', '0', '2', '2', '0', '2', '0', 'a', 's', 'm', 'r', 'o', 'h', 'i', 'n', 'i', 'b', 't', 'e', 'c', 'h', 'x', 'y', 'z', 'c', 'o', 'i', 'n']\n",
            "['her', 'id', 'changed', 'on', '11', '02', '2020', 'as', 'mrohinibtech', 'xyz', 'co', 'in']\n",
            "[' ', ' ', ' ', ' ', '.', '.', ' ', ' ', '@', '.', '.']\n",
            "['11', '02', '2020']\n",
            "['h', 'e', 'r', 'i', 'd', 'c', 'h', 'a', 'n', 'g', 'e', 'd', 'o', 'n', '1', '1', '.', '0', '2', '.', '2', '0', '2', '0', 'a', 's', 'm', 'r', 'o', 'h', 'i', 'n', 'i', 'b', 't', 'e', 'c', 'h', '@', 'x', 'y', 'z', '.', 'c', 'o', '.', 'i', 'n']\n",
            "[' ', ' ', ' ', ' ', ' ', ' ']\n"
          ],
          "name": "stdout"
        }
      ]
    },
    {
      "cell_type": "code",
      "metadata": {
        "id": "HkzxVf1C50ym",
        "outputId": "b4d5a7a9-de4d-45e0-c79e-022aac6edb9f",
        "colab": {
          "base_uri": "https://localhost:8080/",
          "height": 35
        }
      },
      "source": [
        "\n",
        "import re \n",
        "  \n",
        "# '*' replaces the no. of occurrence of a character. \n",
        "p = re.compile('ab*') \n",
        "print(p.findall(\"ababbabbcccbbbabbaab\")) \n"
      ],
      "execution_count": null,
      "outputs": [
        {
          "output_type": "stream",
          "text": [
            "['ab', 'abb', 'abb', 'abb', 'a', 'ab']\n"
          ],
          "name": "stdout"
        }
      ]
    },
    {
      "cell_type": "code",
      "metadata": {
        "id": "bjLccD4eBkLi",
        "outputId": "a1f84545-1f0d-4ecf-d0e4-83cace89e1cf",
        "colab": {
          "base_uri": "https://localhost:8080/",
          "height": 54
        }
      },
      "source": [
        "#extract email id from text\n",
        "import re \n",
        "emailAddress = input()\n",
        "pat2 = re.compile(\"\\S+\\@+\\S+.\")\n",
        "r2 = pat2.findall(emailAddress)\n",
        "print(r2)"
      ],
      "execution_count": null,
      "outputs": [
        {
          "output_type": "stream",
          "text": [
            "once upon a time ths was history in tt@gmail.com sfdg\n",
            "['tt@gmail.com ']\n"
          ],
          "name": "stdout"
        }
      ]
    },
    {
      "cell_type": "code",
      "metadata": {
        "id": "691BKrXagY1L",
        "outputId": "3718fd94-b2e8-4d5d-9dd1-c2eab60dacd0",
        "colab": {
          "base_uri": "https://localhost:8080/",
          "height": 35
        }
      },
      "source": [
        "r=\"sachin\"\n",
        "print(r[::-1])"
      ],
      "execution_count": null,
      "outputs": [
        {
          "output_type": "stream",
          "text": [
            "nihcas\n"
          ],
          "name": "stdout"
        }
      ]
    },
    {
      "cell_type": "code",
      "metadata": {
        "id": "xruSIFQOgvU1",
        "outputId": "2ab7d9e9-27b9-44b9-c3b6-32d42dd735fe",
        "colab": {
          "base_uri": "https://localhost:8080/",
          "height": 35
        }
      },
      "source": [
        "def fun1(t):\n",
        "  return t==t[::-1]\n",
        "\n",
        "s=\"madan\"\n",
        "a=fun1(s)\n",
        "\n",
        "if a:\n",
        "  print(\"Palindrome string\")\n",
        "else:\n",
        "  print(\"Not a palindrome\")"
      ],
      "execution_count": null,
      "outputs": [
        {
          "output_type": "stream",
          "text": [
            "Not a palindrome\n"
          ],
          "name": "stdout"
        }
      ]
    },
    {
      "cell_type": "code",
      "metadata": {
        "id": "KC9TejlBBj-g"
      },
      "source": [
        ""
      ],
      "execution_count": null,
      "outputs": []
    },
    {
      "cell_type": "code",
      "metadata": {
        "id": "9OrFSLay8O2K"
      },
      "source": [
        ""
      ],
      "execution_count": null,
      "outputs": []
    },
    {
      "cell_type": "markdown",
      "metadata": {
        "id": "gob6h9X23kiP"
      },
      "source": [
        "#Miscellaneous"
      ]
    },
    {
      "cell_type": "code",
      "metadata": {
        "id": "e4xiq8cXjv2o",
        "outputId": "8e1d7cf1-0353-41fe-bbdd-96838109ff3e",
        "colab": {
          "base_uri": "https://localhost:8080/",
          "height": 146
        }
      },
      "source": [
        "#print characters in even position,starting and increment value\n",
        "f=input()\n",
        "for s in f:\n",
        "  print(s[0:2:2])\n"
      ],
      "execution_count": null,
      "outputs": [
        {
          "output_type": "stream",
          "text": [
            "sachin\n",
            "s\n",
            "a\n",
            "c\n",
            "h\n",
            "i\n",
            "n\n"
          ],
          "name": "stdout"
        }
      ]
    },
    {
      "cell_type": "code",
      "metadata": {
        "id": "0YJNTZygti2N"
      },
      "source": [
        ""
      ],
      "execution_count": null,
      "outputs": []
    },
    {
      "cell_type": "code",
      "metadata": {
        "id": "vEXILAxLkYzJ"
      },
      "source": [
        "f=input().split()\n",
        "for i in f:\n",
        "  if i.endswith(\"a\"):\n",
        "    print(i,end=\" \")"
      ],
      "execution_count": null,
      "outputs": []
    },
    {
      "cell_type": "code",
      "metadata": {
        "id": "H_EqEZyADBDA",
        "outputId": "dbeabfa6-d74e-4883-e1ed-a243d1333c16",
        "colab": {
          "base_uri": "https://localhost:8080/",
          "height": 35
        }
      },
      "source": [
        "a=\"The quick brown fox jumps over the laZy dog\"\n",
        "b=\"abcdefghijklmnopqrstuvwxyz\"\n",
        "f=0\n",
        "for char in b:\n",
        "  if char not in a:\n",
        "    if char not in a.lower():\n",
        "      f=1\n",
        "      break;\n",
        "\n",
        "if(f==1):\n",
        "  print(\"not a panagram string\")\n",
        "else:\n",
        "  print(\"yes it is a panagram\")\n"
      ],
      "execution_count": null,
      "outputs": [
        {
          "output_type": "stream",
          "text": [
            "yes it is a panagram\n"
          ],
          "name": "stdout"
        }
      ]
    },
    {
      "cell_type": "code",
      "metadata": {
        "id": "6Q3YYc3JivVx",
        "outputId": "ba5951d8-12fc-486a-d865-a5c2d29b6ad3",
        "colab": {
          "base_uri": "https://localhost:8080/",
          "height": 54
        }
      },
      "source": [
        "r=input(\"Enter a string\")\n",
        "print(r.swapcase())"
      ],
      "execution_count": null,
      "outputs": [
        {
          "output_type": "stream",
          "text": [
            "Enter a stringSACHIN tendulkar\n",
            "sachin TENDULKAR\n"
          ],
          "name": "stdout"
        }
      ]
    },
    {
      "cell_type": "code",
      "metadata": {
        "id": "BU01jSVzr8Mg",
        "outputId": "37274cb5-20ed-4ba1-fac6-80cd4f83d9ac",
        "colab": {
          "base_uri": "https://localhost:8080/",
          "height": 54
        }
      },
      "source": [
        "n=int(input())\n",
        "d=dict()\n",
        "for i in range(1,n+1):\n",
        "  d[i]=i*i*i\n",
        "print(d)"
      ],
      "execution_count": null,
      "outputs": [
        {
          "output_type": "stream",
          "text": [
            "10\n",
            "{1: 1, 2: 8, 3: 27, 4: 64, 5: 125, 6: 216, 7: 343, 8: 512, 9: 729, 10: 1000}\n"
          ],
          "name": "stdout"
        }
      ]
    },
    {
      "cell_type": "code",
      "metadata": {
        "id": "wXxfKME2wQRT",
        "outputId": "ca50676a-d6ab-4af7-e932-a7beafe8c1e6",
        "colab": {
          "base_uri": "https://localhost:8080/",
          "height": 54
        }
      },
      "source": [
        "n=list(map(int,(input().split())))\n",
        "s=[]\n",
        "for i in n:\n",
        "  if i not in s:\n",
        "    s.append(i)\n",
        "print(s)\n",
        "\n",
        "0"
      ],
      "execution_count": null,
      "outputs": [
        {
          "output_type": "stream",
          "text": [
            "1 2 3 4 5 3 2 1 \n",
            "[1, 2, 3, 4, 5]\n"
          ],
          "name": "stdout"
        }
      ]
    },
    {
      "cell_type": "code",
      "metadata": {
        "id": "miHv9PSaHhXb"
      },
      "source": [
        ""
      ],
      "execution_count": null,
      "outputs": []
    },
    {
      "cell_type": "code",
      "metadata": {
        "id": "xnj76TmoHWZb",
        "outputId": "dbfa07e7-1973-458f-be8f-de1319ee7db4",
        "colab": {
          "base_uri": "https://localhost:8080/",
          "height": 146
        }
      },
      "source": [
        "def fibonacc(n):\n",
        "  x=1\n",
        "  y=1\n",
        "  print(x,y)\n",
        "  i=0\n",
        "  while (i<=n):\n",
        "    t=x+y\n",
        "    x=y\n",
        "    y=t\n",
        "    i+=1\n",
        "    print(t)\n",
        "\n",
        "fibonacc(5)"
      ],
      "execution_count": null,
      "outputs": [
        {
          "output_type": "stream",
          "text": [
            "1 1\n",
            "2\n",
            "3\n",
            "5\n",
            "8\n",
            "13\n",
            "21\n"
          ],
          "name": "stdout"
        }
      ]
    },
    {
      "cell_type": "code",
      "metadata": {
        "id": "M3QhaqKTaLLc"
      },
      "source": [
        ""
      ],
      "execution_count": null,
      "outputs": []
    },
    {
      "cell_type": "code",
      "metadata": {
        "id": "QPisfY5ZOS28"
      },
      "source": [
        ""
      ],
      "execution_count": null,
      "outputs": []
    },
    {
      "cell_type": "code",
      "metadata": {
        "id": "UHcwRqSyQfxj",
        "outputId": "7e8719c0-0b8c-4de7-a456-a82ab698adea",
        "colab": {
          "base_uri": "https://localhost:8080/",
          "height": 54
        }
      },
      "source": [
        "val = input_single_float_inverse('Enter number ')\n",
        "print(val)"
      ],
      "execution_count": null,
      "outputs": [
        {
          "output_type": "stream",
          "text": [
            "Enter number 23\n",
            "0.043478260869565216\n"
          ],
          "name": "stdout"
        }
      ]
    },
    {
      "cell_type": "code",
      "metadata": {
        "id": "eW9FAf4nEEF1",
        "outputId": "b836940c-e96c-422f-b68a-ca8459dd73fc",
        "colab": {
          "base_uri": "https://localhost:8080/",
          "height": 72
        }
      },
      "source": [
        "#Get your name as input and print the name ‘n’ times. Get the value of n from user. Implement the code. use functions\n",
        "def printi(nm,n):\n",
        "  print(nm*n)\n",
        "\n",
        "#Driver code\n",
        "st=input(\"Enter string\")\n",
        "n1=int(input(\"Get count\"))\n",
        "printi(st,n1)"
      ],
      "execution_count": null,
      "outputs": [
        {
          "output_type": "stream",
          "text": [
            "Enter stringrohinim\n",
            "Get count4\n",
            "rohinimrohinimrohinimrohinim\n"
          ],
          "name": "stdout"
        }
      ]
    },
    {
      "cell_type": "code",
      "metadata": {
        "id": "Zr1xVHOjEfCI",
        "outputId": "a92a7bbb-dbeb-42be-fa57-b9655c822cb3",
        "colab": {
          "base_uri": "https://localhost:8080/",
          "height": 54
        }
      },
      "source": [
        "\n",
        "#Calculate the sum and average of first n natural numbers. Get the value of n from user. Implement the code. use functions.\n",
        "\n",
        "def sumav(n):\n",
        "  sum1=0\n",
        "  for i in range(1,n+1): #range from 1 to 'n' \n",
        "    sum1=sum1+i\n",
        "  avg=sum1/n \n",
        "  print(\"Sum of first \",n,\" natural numbers = \",sum1,avg)\n",
        "\n",
        "n=int(input(\"Enter n: \")) \n",
        "sumav(n)"
      ],
      "execution_count": null,
      "outputs": [
        {
          "output_type": "stream",
          "text": [
            "Enter n: 10\n",
            "Sum of first  10  natural numbers =  55 5.5\n"
          ],
          "name": "stdout"
        }
      ]
    },
    {
      "cell_type": "code",
      "metadata": {
        "id": "IBzljhk5F1l2",
        "outputId": "87a992f9-0731-42ef-d2d5-9b2342a6a734",
        "colab": {
          "base_uri": "https://localhost:8080/",
          "height": 35
        }
      },
      "source": [
        "#get n,x.print multiple of n until multiple of n divisible by x\n",
        "\n",
        "def multipleglean(a,b):\n",
        "  multi=a\n",
        "  flag=1\n",
        "  while(flag):\n",
        "    print(multi,end=\" \")\n",
        "    if multi%b==0:\n",
        "      flag=0\n",
        "    else:\n",
        "      multi+=a\n",
        "\n",
        "multipleglean(2,5)"
      ],
      "execution_count": null,
      "outputs": [
        {
          "output_type": "stream",
          "text": [
            "2 4 6 8 10 "
          ],
          "name": "stdout"
        }
      ]
    },
    {
      "cell_type": "code",
      "metadata": {
        "id": "fPOANoHGF1eF"
      },
      "source": [
        ""
      ],
      "execution_count": null,
      "outputs": []
    },
    {
      "cell_type": "code",
      "metadata": {
        "id": "6XA801wpF1Vd"
      },
      "source": [
        ""
      ],
      "execution_count": null,
      "outputs": []
    },
    {
      "cell_type": "markdown",
      "metadata": {
        "id": "6Ut0mP550rvh"
      },
      "source": [
        "# Lists"
      ]
    },
    {
      "cell_type": "code",
      "metadata": {
        "id": "2sCpl7IG0MCS"
      },
      "source": [
        "course_name = \"Foundations of Data Science\""
      ],
      "execution_count": null,
      "outputs": []
    },
    {
      "cell_type": "code",
      "metadata": {
        "id": "t22wYIzW0vvY"
      },
      "source": [
        "words = course_name.split()"
      ],
      "execution_count": null,
      "outputs": []
    },
    {
      "cell_type": "code",
      "metadata": {
        "id": "ooADbjda0yjN",
        "outputId": "006f6d00-ff1d-4082-e7be-debf81cc6de5",
        "colab": {
          "base_uri": "https://localhost:8080/",
          "height": 35
        }
      },
      "source": [
        "print(words[2])"
      ],
      "execution_count": null,
      "outputs": [
        {
          "output_type": "stream",
          "text": [
            "Data\n"
          ],
          "name": "stdout"
        }
      ]
    },
    {
      "cell_type": "code",
      "metadata": {
        "id": "_EpvJuLJ0znb",
        "outputId": "dbe13d51-968b-4ba9-eae0-c148572619ca",
        "colab": {
          "base_uri": "https://localhost:8080/",
          "height": 35
        }
      },
      "source": [
        "print(type(course_name))"
      ],
      "execution_count": null,
      "outputs": [
        {
          "output_type": "stream",
          "text": [
            "<class 'str'>\n"
          ],
          "name": "stdout"
        }
      ]
    },
    {
      "cell_type": "code",
      "metadata": {
        "id": "sumvsLzf08H6",
        "outputId": "820aa73f-8abc-47d3-b328-f1604a8ab80b",
        "colab": {
          "base_uri": "https://localhost:8080/",
          "height": 35
        }
      },
      "source": [
        "print(type(words))"
      ],
      "execution_count": null,
      "outputs": [
        {
          "output_type": "stream",
          "text": [
            "<class 'list'>\n"
          ],
          "name": "stdout"
        }
      ]
    },
    {
      "cell_type": "code",
      "metadata": {
        "id": "T0DrQ1rH1Fyq",
        "outputId": "1ce583d7-a9b6-4f89-dd63-26914694ad43",
        "colab": {
          "base_uri": "https://localhost:8080/",
          "height": 35
        }
      },
      "source": [
        "print(words[:-1])"
      ],
      "execution_count": null,
      "outputs": [
        {
          "output_type": "stream",
          "text": [
            "['Foundations', 'of', 'Data']\n"
          ],
          "name": "stdout"
        }
      ]
    },
    {
      "cell_type": "code",
      "metadata": {
        "id": "tqYdpiaK1MEF",
        "outputId": "b21de28f-da83-4def-a5db-d463676e08f6",
        "colab": {
          "base_uri": "https://localhost:8080/",
          "height": 35
        }
      },
      "source": [
        "print(type(words[-2]))"
      ],
      "execution_count": null,
      "outputs": [
        {
          "output_type": "stream",
          "text": [
            "<class 'str'>\n"
          ],
          "name": "stdout"
        }
      ]
    },
    {
      "cell_type": "code",
      "metadata": {
        "id": "T4Tmfhax1Ywi",
        "outputId": "5709df7e-6b68-4934-acf7-5ce108ed5313",
        "colab": {
          "base_uri": "https://localhost:8080/",
          "height": 35
        }
      },
      "source": [
        "print(words[-2].lower())"
      ],
      "execution_count": null,
      "outputs": [
        {
          "output_type": "stream",
          "text": [
            "data\n"
          ],
          "name": "stdout"
        }
      ]
    },
    {
      "cell_type": "code",
      "metadata": {
        "id": "x6hTL0KR1fMc",
        "outputId": "c83017ed-cc76-42b1-d2f3-29858ec23016",
        "colab": {
          "base_uri": "https://localhost:8080/",
          "height": 35
        }
      },
      "source": [
        "print(words[:])"
      ],
      "execution_count": null,
      "outputs": [
        {
          "output_type": "stream",
          "text": [
            "['Foundations', 'of', 'Data', 'Science']\n"
          ],
          "name": "stdout"
        }
      ]
    },
    {
      "cell_type": "code",
      "metadata": {
        "id": "ObnsuU-I1qN8",
        "outputId": "b16b8a94-67c9-4af1-bf62-e041e4579d7a",
        "colab": {
          "base_uri": "https://localhost:8080/",
          "height": 35
        }
      },
      "source": [
        "print(words[:2])"
      ],
      "execution_count": null,
      "outputs": [
        {
          "output_type": "stream",
          "text": [
            "['Foundations', 'of']\n"
          ],
          "name": "stdout"
        }
      ]
    },
    {
      "cell_type": "markdown",
      "metadata": {
        "id": "diDjfGXlMnCD"
      },
      "source": [
        "#SLICING\n",
        "[start : stop : steps]  \n",
        "\n",
        "which means that slicing will start from index start\n",
        " will go up to stop in step of steps. \n",
        " Default value of start is 0, stop is last index of list\n",
        " and for step it is 1 "
      ]
    },
    {
      "cell_type": "code",
      "metadata": {
        "id": "TwYJRQ2K10SO",
        "outputId": "116e8155-7157-4eb6-e944-8738fdf20da6",
        "colab": {
          "base_uri": "https://localhost:8080/",
          "height": 35
        }
      },
      "source": [
        "print(type(words[1:]))"
      ],
      "execution_count": null,
      "outputs": [
        {
          "output_type": "stream",
          "text": [
            "['of', 'Data', 'Science']\n"
          ],
          "name": "stdout"
        }
      ]
    },
    {
      "cell_type": "code",
      "metadata": {
        "id": "wkKVVYK2130R"
      },
      "source": [
        "new_words = [\"Machine\", \"Learning\"]"
      ],
      "execution_count": null,
      "outputs": []
    },
    {
      "cell_type": "code",
      "metadata": {
        "id": "A6dHEz1v2BwZ",
        "outputId": "bb5df681-4045-41bd-aadd-456e5934eb30",
        "colab": {
          "base_uri": "https://localhost:8080/",
          "height": 35
        }
      },
      "source": [
        "print(type(new_words))"
      ],
      "execution_count": null,
      "outputs": [
        {
          "output_type": "stream",
          "text": [
            "<class 'list'>\n"
          ],
          "name": "stdout"
        }
      ]
    },
    {
      "cell_type": "code",
      "metadata": {
        "id": "U6W2YM7O2DDd",
        "outputId": "f9a0bbe7-e3e0-4578-8f4d-1bc7c5aed2b2",
        "colab": {
          "base_uri": "https://localhost:8080/",
          "height": 35
        }
      },
      "source": [
        "print(new_words[0])"
      ],
      "execution_count": null,
      "outputs": [
        {
          "output_type": "stream",
          "text": [
            "Machine\n"
          ],
          "name": "stdout"
        }
      ]
    },
    {
      "cell_type": "code",
      "metadata": {
        "id": "CLPct_dn2FjV"
      },
      "source": [
        "fibonacci_list = [1, 1, 2, 3, 5, 8, 13, 21]"
      ],
      "execution_count": null,
      "outputs": []
    },
    {
      "cell_type": "code",
      "metadata": {
        "id": "EINXgpEX2K2l",
        "outputId": "208f30ee-5631-480c-c32a-12e145b45b30",
        "colab": {
          "base_uri": "https://localhost:8080/",
          "height": 35
        }
      },
      "source": [
        "print(type(fibonacci_list[0]))"
      ],
      "execution_count": null,
      "outputs": [
        {
          "output_type": "stream",
          "text": [
            "<class 'int'>\n"
          ],
          "name": "stdout"
        }
      ]
    },
    {
      "cell_type": "code",
      "metadata": {
        "id": "FureZr8r2MQR",
        "outputId": "84b2c1b1-ccb5-4cbb-a68f-b912d5994932",
        "colab": {
          "base_uri": "https://localhost:8080/",
          "height": 35
        }
      },
      "source": [
        "print(fibonacci_list[0] + 10)"
      ],
      "execution_count": null,
      "outputs": [
        {
          "output_type": "stream",
          "text": [
            "11\n"
          ],
          "name": "stdout"
        }
      ]
    },
    {
      "cell_type": "code",
      "metadata": {
        "id": "wHCWmqiU2RYh",
        "outputId": "a55ae576-1924-4e27-93ca-29d2cb5026ac",
        "colab": {
          "base_uri": "https://localhost:8080/",
          "height": 164
        }
      },
      "source": [
        "for num in fibonacci_list:\n",
        "    print(num + 10)"
      ],
      "execution_count": null,
      "outputs": [
        {
          "output_type": "stream",
          "text": [
            "11\n",
            "11\n",
            "12\n",
            "13\n",
            "15\n",
            "18\n",
            "23\n",
            "31\n"
          ],
          "name": "stdout"
        }
      ]
    },
    {
      "cell_type": "markdown",
      "metadata": {
        "id": "TPFT68ER3oYB"
      },
      "source": [
        "working\n"
      ]
    },
    {
      "cell_type": "code",
      "metadata": {
        "id": "OmGFOHv52c-Q",
        "outputId": "1785fe85-588c-4425-d33b-744faea8f4cc",
        "colab": {
          "base_uri": "https://localhost:8080/",
          "height": 35
        }
      },
      "source": [
        "length = len(fibonacci_list)\n",
        "print(length)"
      ],
      "execution_count": null,
      "outputs": [
        {
          "output_type": "stream",
          "text": [
            "8\n"
          ],
          "name": "stdout"
        }
      ]
    },
    {
      "cell_type": "code",
      "metadata": {
        "id": "R7wnHSMH2sPE",
        "outputId": "f6747209-0b5c-4361-b7cc-e25f414aca6e",
        "colab": {
          "base_uri": "https://localhost:8080/",
          "height": 164
        }
      },
      "source": [
        "for i in range(length):\n",
        "    print(i, fibonacci_list[i])"
      ],
      "execution_count": null,
      "outputs": [
        {
          "output_type": "stream",
          "text": [
            "0 1\n",
            "1 1\n",
            "2 2\n",
            "3 3\n",
            "4 5\n",
            "5 8\n",
            "6 13\n",
            "7 21\n"
          ],
          "name": "stdout"
        }
      ]
    },
    {
      "cell_type": "code",
      "metadata": {
        "id": "MjWqDjLF2xk_"
      },
      "source": [
        "bmi_record = [\"Krishna\", 75,1.73, False]"
      ],
      "execution_count": null,
      "outputs": []
    },
    {
      "cell_type": "code",
      "metadata": {
        "id": "WWgdQwlTf38u",
        "outputId": "f5782224-87b7-4a52-85c5-ffdfd288c76e",
        "colab": {
          "base_uri": "https://localhost:8080/",
          "height": 35
        }
      },
      "source": [
        "x=[3,5,1,9,5]\n",
        "x.sort()\n",
        "print(x)"
      ],
      "execution_count": null,
      "outputs": [
        {
          "output_type": "stream",
          "text": [
            "[1, 3, 5, 5, 9]\n"
          ],
          "name": "stdout"
        }
      ]
    },
    {
      "cell_type": "code",
      "metadata": {
        "id": "dlRk0q6OhH8H"
      },
      "source": [
        "import copy"
      ],
      "execution_count": null,
      "outputs": []
    },
    {
      "cell_type": "code",
      "metadata": {
        "id": "Dfl5ZTn_euSj",
        "outputId": "1dca838b-3020-41c3-db7b-8bbf24b72e60",
        "colab": {
          "base_uri": "https://localhost:8080/",
          "height": 35
        }
      },
      "source": [
        "bmi_record.index(1.73)"
      ],
      "execution_count": null,
      "outputs": [
        {
          "output_type": "execute_result",
          "data": {
            "text/plain": [
              "2"
            ]
          },
          "metadata": {
            "tags": []
          },
          "execution_count": 115
        }
      ]
    },
    {
      "cell_type": "code",
      "metadata": {
        "id": "kiRFOSOGfkOn",
        "outputId": "af5900fa-34ce-4737-e8c1-96acdd30722f",
        "colab": {
          "base_uri": "https://localhost:8080/",
          "height": 172
        }
      },
      "source": [
        "bmi_record.count(1.73)"
      ],
      "execution_count": null,
      "outputs": [
        {
          "output_type": "error",
          "ename": "NameError",
          "evalue": "ignored",
          "traceback": [
            "\u001b[0;31m---------------------------------------------------------------------------\u001b[0m",
            "\u001b[0;31mNameError\u001b[0m                                 Traceback (most recent call last)",
            "\u001b[0;32m<ipython-input-1-47eb9f0822a0>\u001b[0m in \u001b[0;36m<module>\u001b[0;34m()\u001b[0m\n\u001b[0;32m----> 1\u001b[0;31m \u001b[0mbmi_record\u001b[0m\u001b[0;34m.\u001b[0m\u001b[0mcount\u001b[0m\u001b[0;34m(\u001b[0m\u001b[0;36m1.73\u001b[0m\u001b[0;34m)\u001b[0m\u001b[0;34m\u001b[0m\u001b[0;34m\u001b[0m\u001b[0m\n\u001b[0m",
            "\u001b[0;31mNameError\u001b[0m: name 'bmi_record' is not defined"
          ]
        }
      ]
    },
    {
      "cell_type": "code",
      "metadata": {
        "id": "nNLZS8m43HjW",
        "outputId": "10d07662-cd4c-424c-82b8-00df0d8075b1",
        "colab": {
          "base_uri": "https://localhost:8080/",
          "height": 35
        }
      },
      "source": [
        "print(type(bmi_record))"
      ],
      "execution_count": null,
      "outputs": [
        {
          "output_type": "stream",
          "text": [
            "<class 'list'>\n"
          ],
          "name": "stdout"
        }
      ]
    },
    {
      "cell_type": "code",
      "metadata": {
        "id": "xgTlXkEf3JUL",
        "outputId": "11528463-0ff8-4d14-c0be-8df38f24efb1",
        "colab": {
          "base_uri": "https://localhost:8080/",
          "height": 90
        }
      },
      "source": [
        "for item in bmi_record:\n",
        "    print(item, type(item))"
      ],
      "execution_count": null,
      "outputs": [
        {
          "output_type": "stream",
          "text": [
            "Krishna <class 'str'>\n",
            "75 <class 'int'>\n",
            "1.73 <class 'float'>\n",
            "False <class 'bool'>\n"
          ],
          "name": "stdout"
        }
      ]
    },
    {
      "cell_type": "code",
      "metadata": {
        "id": "5zQYms0i3OWy"
      },
      "source": [
        "bmi_record[0] = \"Krishna A\""
      ],
      "execution_count": null,
      "outputs": []
    },
    {
      "cell_type": "code",
      "metadata": {
        "id": "TUwm9fjg3Whh"
      },
      "source": [
        "bmi_record.append(\"krishnaa@idontknow.com\")"
      ],
      "execution_count": null,
      "outputs": []
    },
    {
      "cell_type": "code",
      "metadata": {
        "id": "cLnXvVkGZ9gW"
      },
      "source": [
        "bmi_record.insert(2,\"gitateller\")"
      ],
      "execution_count": null,
      "outputs": []
    },
    {
      "cell_type": "code",
      "metadata": {
        "id": "WqShCcyXa32w"
      },
      "source": [
        "bmi_record.remove(bmi_record[2])"
      ],
      "execution_count": null,
      "outputs": []
    },
    {
      "cell_type": "code",
      "metadata": {
        "id": "UBAnO2jabVPc",
        "outputId": "d54a4d98-2125-4d2d-e0dc-e682e357305f",
        "colab": {
          "base_uri": "https://localhost:8080/",
          "height": 36
        }
      },
      "source": [
        "bmi_record.pop(4)"
      ],
      "execution_count": null,
      "outputs": [
        {
          "output_type": "execute_result",
          "data": {
            "application/vnd.google.colaboratory.intrinsic": {
              "type": "string"
            },
            "text/plain": [
              "'krishnaa@idontknow.com'"
            ]
          },
          "metadata": {
            "tags": []
          },
          "execution_count": 78
        }
      ]
    },
    {
      "cell_type": "code",
      "metadata": {
        "id": "8ZmQL12t3fiK",
        "outputId": "0039a897-318a-41ee-ffc5-cd9e9e6522b0",
        "colab": {
          "base_uri": "https://localhost:8080/",
          "height": 127
        }
      },
      "source": [
        "for item in bmi_record:\n",
        "    print(item, type(item))"
      ],
      "execution_count": null,
      "outputs": [
        {
          "output_type": "stream",
          "text": [
            "Krishna <class 'str'>\n",
            "75 <class 'int'>\n",
            "2 <class 'int'>\n",
            "False <class 'bool'>\n",
            "krishnaa@idontknow.com <class 'str'>\n",
            "2 <class 'int'>\n"
          ],
          "name": "stdout"
        }
      ]
    },
    {
      "cell_type": "code",
      "metadata": {
        "id": "_DljQPI6bfVt",
        "outputId": "6cc947c9-b36e-44b1-ef58-bc28c81476b0",
        "colab": {
          "base_uri": "https://localhost:8080/",
          "height": 182
        }
      },
      "source": [
        "a=[[1,2,3],[1,2,1],[1,1,1]]\n",
        "b=[[1,10,1],[2,2,2],[1,2,1]]\n",
        "for i in range(0,3):\n",
        "  for j in range(0,3):\n",
        "   print(a[i][j]+b[i][j])\n",
        "   "
      ],
      "execution_count": null,
      "outputs": [
        {
          "output_type": "stream",
          "text": [
            "2\n",
            "12\n",
            "4\n",
            "3\n",
            "4\n",
            "3\n",
            "2\n",
            "3\n",
            "2\n"
          ],
          "name": "stdout"
        }
      ]
    },
    {
      "cell_type": "code",
      "metadata": {
        "id": "5G-HbNwZdDEZ"
      },
      "source": [
        "a.remove(a[0])"
      ],
      "execution_count": null,
      "outputs": []
    },
    {
      "cell_type": "code",
      "metadata": {
        "id": "bOaTniPJdgAG",
        "outputId": "282f4d5c-4de5-4edf-adb7-362280dc1d92",
        "colab": {
          "base_uri": "https://localhost:8080/",
          "height": 172
        }
      },
      "source": [
        "a.pop()"
      ],
      "execution_count": null,
      "outputs": [
        {
          "output_type": "error",
          "ename": "IndexError",
          "evalue": "ignored",
          "traceback": [
            "\u001b[0;31m---------------------------------------------------------------------------\u001b[0m",
            "\u001b[0;31mIndexError\u001b[0m                                Traceback (most recent call last)",
            "\u001b[0;32m<ipython-input-100-9c070c907602>\u001b[0m in \u001b[0;36m<module>\u001b[0;34m()\u001b[0m\n\u001b[0;32m----> 1\u001b[0;31m \u001b[0ma\u001b[0m\u001b[0;34m.\u001b[0m\u001b[0mpop\u001b[0m\u001b[0;34m(\u001b[0m\u001b[0;34m)\u001b[0m\u001b[0;34m\u001b[0m\u001b[0;34m\u001b[0m\u001b[0m\n\u001b[0m",
            "\u001b[0;31mIndexError\u001b[0m: pop from empty list"
          ]
        }
      ]
    },
    {
      "cell_type": "code",
      "metadata": {
        "id": "ps3F3J0idOAi",
        "outputId": "a850b23c-f9db-4651-a60e-ac519abf6e06",
        "colab": {
          "base_uri": "https://localhost:8080/",
          "height": 35
        }
      },
      "source": [
        "print(a)"
      ],
      "execution_count": null,
      "outputs": [
        {
          "output_type": "stream",
          "text": [
            "[]\n"
          ],
          "name": "stdout"
        }
      ]
    },
    {
      "cell_type": "markdown",
      "metadata": {
        "id": "-ziDAeaFJQRR"
      },
      "source": [
        "# Lists - continued"
      ]
    },
    {
      "cell_type": "code",
      "metadata": {
        "id": "EQkc3mMy3hD-"
      },
      "source": [
        "bmi_dataset = [\n",
        "               [\"Krishna\", 75, 1.73, False],\n",
        "               [\"Bheem\", 120, 1.78, True]\n",
        "]"
      ],
      "execution_count": null,
      "outputs": []
    },
    {
      "cell_type": "code",
      "metadata": {
        "id": "xEvdr535Jg3d",
        "outputId": "49ab59d5-34a1-45e5-d375-5d867c89ea44",
        "colab": {
          "base_uri": "https://localhost:8080/",
          "height": 35
        }
      },
      "source": [
        "print(type(bmi_dataset[1]))"
      ],
      "execution_count": null,
      "outputs": [
        {
          "output_type": "stream",
          "text": [
            "<class 'list'>\n"
          ],
          "name": "stdout"
        }
      ]
    },
    {
      "cell_type": "code",
      "metadata": {
        "id": "r3NEcEflJjuA",
        "outputId": "50494516-06e9-4a85-dcfb-1fdaeb60a739",
        "colab": {
          "base_uri": "https://localhost:8080/",
          "height": 35
        }
      },
      "source": [
        "print(bmi_dataset[0])"
      ],
      "execution_count": null,
      "outputs": [
        {
          "output_type": "stream",
          "text": [
            "['Krishna', 75, 1.73, False]\n"
          ],
          "name": "stdout"
        }
      ]
    },
    {
      "cell_type": "code",
      "metadata": {
        "id": "GSkr_XjBJtrP",
        "outputId": "b8b9ad11-b1e4-4367-9e4e-2789e9a69e0e",
        "colab": {
          "base_uri": "https://localhost:8080/",
          "height": 35
        }
      },
      "source": [
        "print(type(bmi_dataset[0][0]))"
      ],
      "execution_count": null,
      "outputs": [
        {
          "output_type": "stream",
          "text": [
            "<class 'str'>\n"
          ],
          "name": "stdout"
        }
      ]
    },
    {
      "cell_type": "code",
      "metadata": {
        "id": "yREJjR6WJ2r3",
        "outputId": "12a24979-6201-4fc0-9065-96e93e640dee",
        "colab": {
          "base_uri": "https://localhost:8080/",
          "height": 35
        }
      },
      "source": [
        "print(bmi_dataset[1][2])"
      ],
      "execution_count": null,
      "outputs": [
        {
          "output_type": "stream",
          "text": [
            "1.78\n"
          ],
          "name": "stdout"
        }
      ]
    },
    {
      "cell_type": "code",
      "metadata": {
        "id": "4Vokqa0FJ89l"
      },
      "source": [
        "bmi_dataset[1].append(\"bheem@foodtruck.com\")"
      ],
      "execution_count": null,
      "outputs": []
    },
    {
      "cell_type": "code",
      "metadata": {
        "id": "H9NegJTDYmNP"
      },
      "source": [
        "bmi_dataset[0].append(\"krishnaa@idontknow.com\")"
      ],
      "execution_count": null,
      "outputs": []
    },
    {
      "cell_type": "code",
      "metadata": {
        "id": "Rzgndf4aKO8p",
        "outputId": "622a6793-3bfb-4c5d-a0bf-2c79d7740fad",
        "colab": {
          "base_uri": "https://localhost:8080/",
          "height": 35
        }
      },
      "source": [
        "print(bmi_dataset)"
      ],
      "execution_count": null,
      "outputs": [
        {
          "output_type": "stream",
          "text": [
            "[['Krishna', 75, 1.73, False, 'krishnaa@idontknow.com'], ['Bheem', 129, 1.78, True, 'bheem@foodtruck.com']]\n"
          ],
          "name": "stdout"
        }
      ]
    },
    {
      "cell_type": "code",
      "metadata": {
        "id": "Lkz3Es5QKQf3"
      },
      "source": [
        "bmi_dataset[1][1] = 129"
      ],
      "execution_count": null,
      "outputs": []
    },
    {
      "cell_type": "code",
      "metadata": {
        "id": "aBBMxzV7KZ_1"
      },
      "source": [
        "identity_3 = [\n",
        "              [1, 0, 0],\n",
        "              [0, 1, 0],\n",
        "              [0, 0, 1]\n",
        "]"
      ],
      "execution_count": null,
      "outputs": []
    },
    {
      "cell_type": "code",
      "metadata": {
        "id": "7NTzmXOwKqp8",
        "outputId": "d0b4ecf3-d7f0-48b7-cefe-687474403d25",
        "colab": {
          "base_uri": "https://localhost:8080/",
          "height": 35
        }
      },
      "source": [
        "print(identity_3[2][1])"
      ],
      "execution_count": null,
      "outputs": [
        {
          "output_type": "stream",
          "text": [
            "0\n"
          ],
          "name": "stdout"
        }
      ]
    },
    {
      "cell_type": "code",
      "metadata": {
        "id": "eutbtw4XKsd0"
      },
      "source": [
        "A = [1, 2]"
      ],
      "execution_count": null,
      "outputs": []
    },
    {
      "cell_type": "code",
      "metadata": {
        "id": "prDRE12VK6Wt"
      },
      "source": [
        "B = A"
      ],
      "execution_count": null,
      "outputs": []
    },
    {
      "cell_type": "code",
      "metadata": {
        "id": "ARmetUuiK7hZ",
        "outputId": "b6f0d896-eb0d-45a3-d1b7-c7f974c288df",
        "colab": {
          "base_uri": "https://localhost:8080/",
          "height": 35
        }
      },
      "source": [
        "print(B)"
      ],
      "execution_count": null,
      "outputs": [
        {
          "output_type": "stream",
          "text": [
            "[1, 2]\n"
          ],
          "name": "stdout"
        }
      ]
    },
    {
      "cell_type": "code",
      "metadata": {
        "id": "C8N0K8KlK9M8"
      },
      "source": [
        "A[0] = A[0] + A[1]"
      ],
      "execution_count": null,
      "outputs": []
    },
    {
      "cell_type": "code",
      "metadata": {
        "id": "kJt33znALCpE",
        "outputId": "278484f9-7a4c-4ff8-f77a-f4ad04dc220b",
        "colab": {
          "base_uri": "https://localhost:8080/",
          "height": 35
        }
      },
      "source": [
        "print(A)"
      ],
      "execution_count": null,
      "outputs": [
        {
          "output_type": "stream",
          "text": [
            "[3, 2]\n"
          ],
          "name": "stdout"
        }
      ]
    },
    {
      "cell_type": "code",
      "metadata": {
        "id": "l_O2qJtwLDZq",
        "outputId": "4325d959-5ef2-476f-80ec-78c83d0a4f05",
        "colab": {
          "base_uri": "https://localhost:8080/",
          "height": 35
        }
      },
      "source": [
        "print(B)"
      ],
      "execution_count": null,
      "outputs": [
        {
          "output_type": "stream",
          "text": [
            "[3, 2]\n"
          ],
          "name": "stdout"
        }
      ]
    },
    {
      "cell_type": "code",
      "metadata": {
        "id": "Ngunj3jtLEv0"
      },
      "source": [
        "A = [1, 2]"
      ],
      "execution_count": null,
      "outputs": []
    },
    {
      "cell_type": "code",
      "metadata": {
        "id": "mROzmMJgLXrn"
      },
      "source": [
        "B = [item for item in A]"
      ],
      "execution_count": null,
      "outputs": []
    },
    {
      "cell_type": "code",
      "metadata": {
        "id": "6NlLnK1XLiyu",
        "outputId": "30bafcb5-8c6c-4cb2-e504-340405cea3ac",
        "colab": {
          "base_uri": "https://localhost:8080/",
          "height": 35
        }
      },
      "source": [
        "print(B)"
      ],
      "execution_count": null,
      "outputs": [
        {
          "output_type": "stream",
          "text": [
            "[1, 2]\n"
          ],
          "name": "stdout"
        }
      ]
    },
    {
      "cell_type": "code",
      "metadata": {
        "id": "PbZtWubDLjgK"
      },
      "source": [
        "A[0] = A[0] + A[1]"
      ],
      "execution_count": null,
      "outputs": []
    },
    {
      "cell_type": "code",
      "metadata": {
        "id": "o_fIxWZ4Lk_w",
        "outputId": "756d7517-016c-42f4-d2f5-f393c9c5af42",
        "colab": {
          "base_uri": "https://localhost:8080/",
          "height": 35
        }
      },
      "source": [
        "print(A)"
      ],
      "execution_count": null,
      "outputs": [
        {
          "output_type": "stream",
          "text": [
            "[3, 2]\n"
          ],
          "name": "stdout"
        }
      ]
    },
    {
      "cell_type": "code",
      "metadata": {
        "id": "QrKvnxdtLlls",
        "outputId": "b28b9b65-8854-4dc2-ffe2-34bbfc09693a",
        "colab": {
          "base_uri": "https://localhost:8080/",
          "height": 35
        }
      },
      "source": [
        "print(B)"
      ],
      "execution_count": null,
      "outputs": [
        {
          "output_type": "stream",
          "text": [
            "[1, 2]\n"
          ],
          "name": "stdout"
        }
      ]
    },
    {
      "cell_type": "code",
      "metadata": {
        "id": "X26G0n9XYTda",
        "outputId": "30de3fbf-4906-46da-e222-b752128f01c6",
        "colab": {
          "base_uri": "https://localhost:8080/",
          "height": 182
        }
      },
      "source": [
        "import copy \n",
        "\n",
        "# Initializing list  \n",
        "lis1 = [ 1, 2, 3, 4 ] \n",
        "  \n",
        "# Using shallow copy techniques to create a shallow copy \n",
        "lis2 = lis1.copy() \n",
        "lis3 = copy.copy(lis1) \n",
        "lis4 = lis1[:] \n",
        "  \n",
        "# Adding new element to new lists \n",
        "lis2.append(5) \n",
        "lis3.append(5) \n",
        "lis4.append(5) \n",
        "  \n",
        "# Printing lists after adding new element \n",
        "# No change in old list \n",
        "print (\"The new list created using copy.copy() : \" + str(lis2)) \n",
        "print (\"The new list created using list.copy() : \" + str(lis3)) \n",
        "print (\"The new list created using slicing : \" + str(lis4)) \n",
        "print (\"The old list after adding new element to new list  : \" + str(lis1)) \n",
        "  \n",
        "print (\"\\n\") \n",
        "  \n",
        "# Using deep copy techniques to create a deep copy \n",
        "lis2 = lis1 \n",
        "lis3 = copy.deepcopy(lis1)  \n",
        "  \n",
        "# Adding new element to new lists \n",
        "lis2.append(5) \n",
        "lis3.append(5) \n",
        "  \n",
        "  \n",
        "# Printing lists after adding new element \n",
        "# changes reflected in old list \n",
        "print (\"The new list created using copy.deepcopy() : \" ,lis2) \n",
        "print (\"The new list created using = : \" + str(lis3)) \n",
        "print (\"The old list after adding new element to new list  : \" + str(lis1))"
      ],
      "execution_count": null,
      "outputs": [
        {
          "output_type": "stream",
          "text": [
            "The new list created using copy.copy() : [1, 2, 3, 4, 5]\n",
            "The new list created using list.copy() : [1, 2, 3, 4, 5]\n",
            "The new list created using slicing : [1, 2, 3, 4, 5]\n",
            "The old list after adding new element to new list  : [1, 2, 3, 4]\n",
            "\n",
            "\n",
            "The new list created using copy.deepcopy() :  [1, 2, 3, 4, 5]\n",
            "The new list created using = : [1, 2, 3, 4, 5]\n",
            "The old list after adding new element to new list  : [1, 2, 3, 4, 5]\n"
          ],
          "name": "stdout"
        }
      ]
    },
    {
      "cell_type": "markdown",
      "metadata": {
        "id": "hUJpw3byJoHv"
      },
      "source": [
        "#A list comprehension generally consist of these parts :\n",
        "\n",
        "    Output expression,\n",
        "    Input sequence,\n",
        "    A variable representing a member of the input sequence and\n",
        "    An optional predicate part.\n",
        "    For example :\n",
        "\n",
        "lst  =  [x ** 2  for x in range (1, 11)   if  x % 2 == 1] \n",
        "\n",
        "here, x ** 2 is output expression, \n",
        "      range (1, 11)  is input sequence, \n",
        "      x is variable and   \n",
        "      if x % 2 == 1 is predicate part."
      ]
    },
    {
      "cell_type": "code",
      "metadata": {
        "id": "iOkhIKapYHoa",
        "outputId": "d4744fb1-e595-45dc-c8c8-7d7bc1442b1e",
        "colab": {
          "base_uri": "https://localhost:8080/",
          "height": 35
        }
      },
      "source": [
        "lst = [x ** 2 for x in range (1, 11) if x % 2 == 1] \n",
        "print(lst)"
      ],
      "execution_count": null,
      "outputs": [
        {
          "output_type": "stream",
          "text": [
            "[1, 9, 25, 49, 81]\n"
          ],
          "name": "stdout"
        }
      ]
    },
    {
      "cell_type": "code",
      "metadata": {
        "id": "OZTOqcbnvOvU",
        "outputId": "a9596e2a-9115-4f8c-de44-9eabd0363f61",
        "colab": {
          "base_uri": "https://localhost:8080/",
          "height": 54
        }
      },
      "source": [
        "bl=[1,0,1,1,1,0,0,1,0,1]\n",
        "zero=[x for x in bl if(x==0)]\n",
        "print(zero)\n",
        "ones=[x for x in bl if(x==1)]\n",
        "print(ones)"
      ],
      "execution_count": null,
      "outputs": [
        {
          "output_type": "stream",
          "text": [
            "[0, 0, 0, 0]\n",
            "[1, 1, 1, 1, 1, 1]\n"
          ],
          "name": "stdout"
        }
      ]
    },
    {
      "cell_type": "code",
      "metadata": {
        "id": "XWhBMXQ3LSZ3"
      },
      "source": [
        "# below list contains power of 2 from 1 to 8 \n",
        "power_of_2 = [2 ** x for x in range(1, 9)] \n",
        "print power_of_2 "
      ],
      "execution_count": null,
      "outputs": []
    },
    {
      "cell_type": "code",
      "metadata": {
        "id": "IpX504nFLbj-"
      },
      "source": [
        "# list for lowering the characters \n",
        "print [x.lower() for x in [\"A\",\"B\",\"C\"]] "
      ],
      "execution_count": null,
      "outputs": []
    },
    {
      "cell_type": "code",
      "metadata": {
        "id": "IjSV7yS0Lkks"
      },
      "source": [
        "# list which extracts number \n",
        "string = \"my phone number is : 11122 !!\"\n",
        "  \n",
        "print(\"\\nExtracted digits\") \n",
        "numbers = [x for x in string if x.isdigit()] \n",
        "print numbers "
      ],
      "execution_count": null,
      "outputs": []
    },
    {
      "cell_type": "code",
      "metadata": {
        "id": "Uf0jmMfDLpC_",
        "outputId": "482e25cc-03f5-457c-9d22-475e312f0a04",
        "colab": {
          "base_uri": "https://localhost:8080/",
          "height": 237
        }
      },
      "source": [
        "\n",
        "# A list of list for multiplication table \n",
        "a = 5\n",
        "table = [[a, b, a * b] for b in range(1, 11)] \n",
        "  \n",
        "print(\"\\nMultiplication Table\") \n",
        "for i in table: \n",
        "    print(i)\n",
        "\n"
      ],
      "execution_count": null,
      "outputs": [
        {
          "output_type": "stream",
          "text": [
            "\n",
            "Multiplication Table\n",
            "[5, 1, 5]\n",
            "[5, 2, 10]\n",
            "[5, 3, 15]\n",
            "[5, 4, 20]\n",
            "[5, 5, 25]\n",
            "[5, 6, 30]\n",
            "[5, 7, 35]\n",
            "[5, 8, 40]\n",
            "[5, 9, 45]\n",
            "[5, 10, 50]\n"
          ],
          "name": "stdout"
        }
      ]
    },
    {
      "cell_type": "code",
      "metadata": {
        "id": "EE_LYHubKsXh"
      },
      "source": [
        "\n",
        "# Python program to demonstrate list comprehension in Python  \n",
        "  \n",
        "# below list contains square of all odd numbers from \n",
        "# range 1 to 10 \n",
        "odd_square = [x ** 2 for x in range(1, 11) if x % 2 == 1] \n",
        "print odd_square \n",
        "  \n",
        "# for understanding, above generation is same as, \n",
        "odd_square = [] \n",
        "for x in range(1, 11): \n",
        "    if x % 2 == 1: \n",
        "        odd_square.append(x**2) \n",
        "print odd_square  \n",
        "\n"
      ],
      "execution_count": null,
      "outputs": []
    },
    {
      "cell_type": "code",
      "metadata": {
        "id": "uhvjgB72lU1N",
        "outputId": "699ccd7a-17c1-4e20-b26b-75521f30de45",
        "colab": {
          "base_uri": "https://localhost:8080/",
          "height": 35
        }
      },
      "source": [
        "\n"
      ],
      "execution_count": null,
      "outputs": [
        {
          "output_type": "stream",
          "text": [
            "yes\n"
          ],
          "name": "stdout"
        }
      ]
    },
    {
      "cell_type": "code",
      "metadata": {
        "id": "sth4oE3_vN7G"
      },
      "source": [
        "()"
      ],
      "execution_count": null,
      "outputs": []
    }
  ]
}